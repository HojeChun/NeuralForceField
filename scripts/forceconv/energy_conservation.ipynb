{
 "cells": [
  {
   "cell_type": "code",
   "execution_count": 1,
   "metadata": {},
   "outputs": [],
   "source": [
    "import sys\n",
    "sys.path.insert(0, \"..\")\n",
    "sys.path.insert(0, \"../..\")\n",
    "import numpy as np\n",
    "import matplotlib.pyplot as plt\n",
    "\n",
    "import torch\n",
    "from ase import Atoms\n",
    "import matplotlib\n",
    "\n",
    "matplotlib.rcParams.update({'font.size': 25})\n",
    "matplotlib.rc('lines', linewidth=3, color='g')\n",
    "matplotlib.rcParams['axes.linewidth'] = 2.0\n",
    "matplotlib.rcParams['axes.linewidth'] = 2.0\n",
    "matplotlib.rcParams[\"xtick.major.size\"] = 6\n",
    "matplotlib.rcParams[\"ytick.major.size\"] = 6\n",
    "matplotlib.rcParams[\"ytick.major.width\"] = 2\n",
    "matplotlib.rcParams[\"xtick.major.width\"] = 2\n",
    "matplotlib.rcParams['text.usetex'] = False\n",
    "matplotlib.rcParams[\"legend.fancybox\"] = False"
   ]
  },
  {
   "cell_type": "code",
   "execution_count": 2,
   "metadata": {},
   "outputs": [],
   "source": [
    "## define models "
   ]
  },
  {
   "cell_type": "code",
   "execution_count": 3,
   "metadata": {},
   "outputs": [],
   "source": [
    "from scripts.forceconv.forceconv import *\n",
    "from scripts.forceconv.forcepai import ForcePai_polar, ForcePai\n",
    "from scripts import forceconv \n",
    "DEVICE ='cpu'\n",
    "trainparam = {\n",
    "  \"cutoff\": 5.0,\n",
    "  \"n_atom_basis\": 128,\n",
    "  \"n_convolutions\": 4,\n",
    "  \"n_edge_basis\": 256,\n",
    "  \"n_filters\": 256,\n",
    "  \"n_gaussians\": 32\n",
    "}\n",
    "\n",
    "model = ForceConvolve(n_convolutions=trainparam['n_convolutions'], \n",
    "                      n_edge_basis=trainparam['n_edge_basis'], \n",
    "                      n_atom_basis=trainparam['n_atom_basis'], \n",
    "                      n_filters=trainparam['n_filters'], \n",
    "                      n_gaussians=trainparam['n_gaussians'], \n",
    "                      cutoff=trainparam['cutoff'],\n",
    "                      edge_filter_depth=1,\n",
    "                      atom_filter_depth=1,\n",
    "                      edge_update_depth=1,\n",
    "                      atom_update_depth=1\n",
    "                     ).to(DEVICE)\n",
    "    \n",
    "\n",
    "# modelparms = {'feat_dim': 64, 'n_rbf': 8, 'cutoff':5.0, 'num_conv': 3}\n",
    "# model = ForcePai(modelparms)\n"
   ]
  },
  {
   "cell_type": "code",
   "execution_count": 14,
   "metadata": {},
   "outputs": [],
   "source": [
    "from scripts.forceconv.MD17data import *\n",
    "ethanol_data = get_MD17data('ethanol_dft')\n",
    "#ethanol_data = pack_MD17data(ethanol_data, 2000)\n",
    "\n",
    "\n",
    "def get_batch(xyz, cutoff=6.0):\n",
    "    '''transform xyz into a databach'''\n",
    "    \n",
    "    xyz = torch.Tensor(xyz)\n",
    "    n = xyz.size(0)\n",
    "    dist = (xyz.expand(n, n, 3) - xyz.expand(n, n, 3).transpose(0, 1)\n",
    "            ).pow(2).sum(dim=2).sqrt()\n",
    "\n",
    "    # neighbor list\n",
    "    mask = (dist <= cutoff)\n",
    "    mask[np.diag_indices(n)] = 0\n",
    "    nbr_list = mask.nonzero()\n",
    "\n",
    "    nxyz = torch.Tensor( np.hstack( (ethanol_data.f.z[:, None] , xyz)))\n",
    "\n",
    "    return {'nxyz': nxyz, 'nbr_list': nbr_list}"
   ]
  },
  {
   "cell_type": "code",
   "execution_count": 15,
   "metadata": {},
   "outputs": [],
   "source": [
    "# generate data points for the loop integrals "
   ]
  },
  {
   "cell_type": "code",
   "execution_count": 22,
   "metadata": {},
   "outputs": [],
   "source": [
    "atoms = Atoms(positions=ethanol_data.f.R[-1], numbers=ethanol_data.f.z)\n",
    "\n",
    "coord_list = [] # list of coordinates \n",
    "dihe_list = []\n",
    "atoms_list = []  # list of dihedral angles \n",
    "\n",
    "# Rotate the CCOH diheral angle for 360 degress.\n",
    "n_rot = 200 # we sample 200 points along the path \n",
    "for i in range(n_rot ):\n",
    "    atoms.rotate_dihedral(1, 0, 2, 8, 360.0/n_rot, indices=[8] )\n",
    "    positions = atoms.get_positions()      \n",
    "    coord_list.append(positions)\n",
    "    dihe_list.append( atoms.get_dihedral(1, 0, 2, 8) )\n",
    "    atoms_list.append(Atoms(positions=positions, numbers=ethanol_data.f.z))"
   ]
  },
  {
   "cell_type": "code",
   "execution_count": 23,
   "metadata": {},
   "outputs": [],
   "source": [
    "# compute forces \n",
    "f_list = [] # list forces \n",
    "for i, xyz in enumerate( coord_list[:-1]) :\n",
    "    \n",
    "    dr = coord_list[i + 1] - xyz # compute dr \n",
    "     \n",
    "    batch = get_batch(xyz + 0.5 * dr) # compute force at mid-point \n",
    "    f = -model(batch)['energy_grad']\n",
    "\n",
    "    dr = torch.Tensor(dr)\n",
    "    f_list.append((f * dr).sum().detach().numpy()) # dot product "
   ]
  },
  {
   "cell_type": "code",
   "execution_count": 24,
   "metadata": {},
   "outputs": [],
   "source": [
    "# Integrate forces \n",
    "integral = []\n",
    "for i in range(len(dihe_list[:-1])):\n",
    "    integral.append(np.array(f_list[:i]).sum() )"
   ]
  },
  {
   "cell_type": "code",
   "execution_count": 25,
   "metadata": {},
   "outputs": [],
   "source": [
    "# Get energy offset \n",
    "deg_0_index = np.array(dihe_list).argmin()\n",
    "offset = integral[deg_0_index]"
   ]
  },
  {
   "cell_type": "code",
   "execution_count": 26,
   "metadata": {},
   "outputs": [
    {
     "data": {
      "image/png": "[encoded data removed]",
      "text/plain": [
       "<Figure size 504x504 with 1 Axes>"
      ]
     },
     "metadata": {
      "needs_background": "light"
     },
     "output_type": "display_data"
    }
   ],
   "source": [
    "plt.figure(figsize=(7,7))\n",
    "\n",
    "plt.title(\"ForceSchnet-energy\")\n",
    "# plt.plot([0.0, 360.0], [0.0, 0.0], linestyle='--', color='g')\n",
    "plt.scatter(dihe_list[:-1], np.array(integral) - offset, label=r'$ \\int f \\cdot dx$', s= 4)\n",
    "\n",
    "plt.legend()\n",
    "plt.xlabel(\"deg.\")\n",
    "plt.show()"
   ]
  },
  {
   "cell_type": "code",
   "execution_count": 27,
   "metadata": {},
   "outputs": [
    {
     "data": {
      "image/png": "[encoded data removed]",
      "text/plain": [
       "<Figure size 504x504 with 1 Axes>"
      ]
     },
     "metadata": {
      "needs_background": "light"
     },
     "output_type": "display_data"
    }
   ],
   "source": [
    "plt.figure(figsize=(7,7))\n",
    "\n",
    "plt.plot([0.0, 360.0], [0.0, 0.0], linestyle='--', color='g')\n",
    "plt.scatter(dihe_list[:-1], f_list, label=r'$f \\cdot dx$', s= 4)\n",
    "\n",
    "\n",
    "plt.legend()\n",
    "plt.xlabel(\"deg.\")\n",
    "plt.show()"
   ]
  },
  {
   "cell_type": "code",
   "execution_count": null,
   "metadata": {},
   "outputs": [],
   "source": []
  },
  {
   "cell_type": "code",
   "execution_count": null,
   "metadata": {},
   "outputs": [],
   "source": []
  }
 ],
 "metadata": {
  "kernelspec": {
   "display_name": "Python [conda env:nff]",
   "language": "python",
   "name": "conda-env-nff-py"
  },
  "language_info": {
   "codemirror_mode": {
    "name": "ipython",
    "version": 3
   },
   "file_extension": ".py",
   "mimetype": "text/x-python",
   "name": "python",
   "nbconvert_exporter": "python",
   "pygments_lexer": "ipython3",
   "version": "3.7.9"
  }
 },
 "nbformat": 4,
 "nbformat_minor": 2
}
