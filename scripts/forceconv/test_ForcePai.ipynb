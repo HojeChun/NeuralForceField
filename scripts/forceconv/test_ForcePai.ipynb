{
 "cells": [
  {
   "cell_type": "code",
   "execution_count": 1,
   "id": "returning-franchise",
   "metadata": {},
   "outputs": [],
   "source": [
    "import sys\n",
    "from pathlib import Path\n",
    "\n",
    "# change to your NFF path\n",
    "sys.path.insert(0, \"..\")\n",
    "sys.path.insert(0, \"../..\")\n",
    "sys.path.insert(0, \"../../../\")\n",
    "\n",
    "import os\n",
    "import shutil\n",
    "import numpy as np\n",
    "import matplotlib.pyplot as plt\n",
    "import copy\n",
    "\n",
    "import torch\n",
    "from torch.optim import Adam\n",
    "from torch.utils.data import DataLoader\n",
    "from torch.utils.data.sampler import RandomSampler\n",
    "\n",
    "from nff.data import Dataset, split_train_validation_test, collate_dicts, to_tensor\n",
    "from nff.train import Trainer, get_trainer, get_model, load_model, loss, hooks, metrics, evaluate\n",
    "\n",
    "import argparse\n",
    "from sigopt import Connection\n",
    "\n",
    "from train import train\n",
    "from forceconv import *\n",
    "\n",
    "from MD17data import *\n",
    "\n",
    "from forcepai import ForcePai\n",
    "# from nff.nn.models import Painn"
   ]
  },
  {
   "cell_type": "code",
   "execution_count": 2,
   "id": "south-military",
   "metadata": {},
   "outputs": [],
   "source": [
    "parser = argparse.ArgumentParser()\n",
    "parser.add_argument(\"-logdir\", type=str, default='./output')\n",
    "parser.add_argument(\"-device\", type=int, default=0)\n",
    "parser.add_argument(\"-data\", type=str, default='ethanol_dft')\n",
    "params = vars(parser.parse_args([]))\n",
    "\n",
    "DEVICE = params['device']\n",
    "OUTDIR = '{}/{}/sandbox'.format(params['logdir'], 'test_ForcePai')\n",
    "\n",
    "BATCH_SIZE = 10\n",
    "lr = 1e-5\n",
    "n_epochs = 100"
   ]
  },
  {
   "cell_type": "code",
   "execution_count": 3,
   "id": "selected-affect",
   "metadata": {},
   "outputs": [],
   "source": [
    "data = get_MD17data(params['data'])\n",
    "dataset = pack_MD17data(data, 10000)"
   ]
  },
  {
   "cell_type": "code",
   "execution_count": 4,
   "id": "incorrect-commodity",
   "metadata": {},
   "outputs": [],
   "source": [
    "train, val, test = split_train_validation_test(dataset, val_size=0.05, test_size=0.85)\n",
    "train_loader = DataLoader(train, batch_size=BATCH_SIZE, collate_fn=collate_dicts)\n",
    "val_loader = DataLoader(val, batch_size=BATCH_SIZE, collate_fn=collate_dicts)\n",
    "test_loader = DataLoader(test, batch_size=BATCH_SIZE, collate_fn=collate_dicts)"
   ]
  },
  {
   "cell_type": "code",
   "execution_count": 5,
   "id": "better-miracle",
   "metadata": {},
   "outputs": [],
   "source": [
    "modelparams = {\"feat_dim\": 128,\n",
    "              \"activation\": \"swish\",\n",
    "              \"n_rbf\": 20,\n",
    "              \"cutoff\": 5.0,\n",
    "              \"num_conv\": 3,\n",
    "              \"output_keys\": [\"energy\"],\n",
    "              \"grad_keys\": [\"energy_grad\"],\n",
    "               # whether to sum outputs from all blocks in the model\n",
    "               # or just the final output block. False in the original\n",
    "               # implementation\n",
    "              \"skip_connection\": False,\n",
    "               # Whether the k parameters in the Bessel basis functions\n",
    "               # are learnable. False originally\n",
    "              \"learnable_k\": False,\n",
    "               # dropout rate in the convolution layers, originally 0\n",
    "               \"conv_dropout\": 0.0,\n",
    "               # dropout rate in the readout layers, originally 0\n",
    "               \"readout_dropout\": 0.0,\n",
    "               # dictionary of means to add to each output key\n",
    "               # (this is optional - if you don't supply it then\n",
    "               # nothing will be added)\n",
    "               # \"means\": {\"energy\": train.props['energy'].mean().item()},\n",
    "               # dictionary of standard devations with which to \n",
    "               # multiply each output key\n",
    "               # (this is optional - if you don't supply it then\n",
    "               # nothing will be multiplied)\n",
    "               # \"stddevs\": {\"energy\": train.props['energy'].std().item()}\n",
    "              }\n",
    "model = ForcePai(modelparams).to(DEVICE)\n",
    "# model = get_model(modelparams, model_type=\"Painn\")"
   ]
  },
  {
   "cell_type": "code",
   "execution_count": 6,
   "id": "social-invalid",
   "metadata": {},
   "outputs": [],
   "source": [
    "loss_fn = loss.build_mse_loss(loss_coef={'energy_grad': 1})\n",
    "trainable_params = filter(lambda p: p.requires_grad, model.parameters())\n",
    "optimizer = Adam(trainable_params, lr=lr)\n",
    "train_metrics = [\n",
    "        metrics.MeanAbsoluteError('energy_grad')\n",
    "    ]"
   ]
  },
  {
   "cell_type": "code",
   "execution_count": 7,
   "id": "important-summit",
   "metadata": {},
   "outputs": [],
   "source": [
    "train_hooks = [\n",
    "    hooks.MaxEpochHook(n_epochs),\n",
    "    hooks.CSVHook(\n",
    "        OUTDIR,\n",
    "        metrics=train_metrics,\n",
    "    ),\n",
    "    hooks.PrintingHook(\n",
    "        OUTDIR,\n",
    "        metrics=train_metrics,\n",
    "        separator = ' | ',\n",
    "        time_strf='%M:%S'\n",
    "    ),\n",
    "    hooks.ReduceLROnPlateauHook(\n",
    "        optimizer=optimizer,\n",
    "        patience=20,\n",
    "        factor=0.5,\n",
    "        min_lr=1e-7,\n",
    "        window_length=1,\n",
    "        stop_after_min=True\n",
    "    )\n",
    "]\n",
    "\n",
    "T = Trainer(\n",
    "    model_path=OUTDIR,\n",
    "    model=model,\n",
    "    loss_fn=loss_fn,\n",
    "    optimizer=optimizer,\n",
    "    train_loader=train_loader,\n",
    "    validation_loader=val_loader,\n",
    "    checkpoint_interval=1,\n",
    "    hooks=train_hooks,\n",
    "    mini_batches=1\n",
    ")\n",
    "\n",
    "T.train(device=DEVICE, n_epochs=1000)"
   ]
  },
  {
   "cell_type": "code",
   "execution_count": 7,
   "id": "surgical-somerset",
   "metadata": {},
   "outputs": [],
   "source": [
    "from nff.utils.cuda import batch_to, batch_detach\n",
    "data = None\n",
    "for batch in train_loader:\n",
    "    data = batch_to(batch, DEVICE)\n",
    "    break"
   ]
  },
  {
   "cell_type": "code",
   "execution_count": 8,
   "id": "incomplete-discretion",
   "metadata": {},
   "outputs": [
    {
     "data": {
      "text/plain": [
       "tensor([[ 0.7071, -0.7071,  0.0000],\n",
       "        [ 0.7071,  0.7071,  0.0000],\n",
       "        [ 0.0000,  0.0000,  1.0000]], device='cuda:0')"
      ]
     },
     "execution_count": 8,
     "metadata": {},
     "output_type": "execute_result"
    }
   ],
   "source": [
    "rotate = torch.Tensor([[2**.5/2, -2**.5/2, 0],\n",
    "                       [2**.5/2, 2**.5/2, 0],\n",
    "                       [0, 0, 1]]).to(DEVICE)\n",
    "rotate"
   ]
  },
  {
   "cell_type": "code",
   "execution_count": 10,
   "id": "distributed-labor",
   "metadata": {},
   "outputs": [],
   "source": [
    "data['nxyz'][:, 1:4] @= rotate"
   ]
  },
  {
   "cell_type": "code",
   "execution_count": 9,
   "id": "associate-interim",
   "metadata": {},
   "outputs": [],
   "source": [
    "results = batch_to(batch_detach(model(data)), DEVICE)"
   ]
  },
  {
   "cell_type": "code",
   "execution_count": 11,
   "id": "alpha-oregon",
   "metadata": {},
   "outputs": [],
   "source": [
    "new_results = batch_to(batch_detach(model(data)), DEVICE)"
   ]
  },
  {
   "cell_type": "code",
   "execution_count": 14,
   "id": "automated-yacht",
   "metadata": {},
   "outputs": [
    {
     "data": {
      "text/plain": [
       "tensor(-8.8855e-08, device='cuda:0')"
      ]
     },
     "execution_count": 14,
     "metadata": {},
     "output_type": "execute_result"
    }
   ],
   "source": [
    "(new_results['energy_grad'] - (results['energy_grad'] @ rotate)).mean()"
   ]
  },
  {
   "cell_type": "code",
   "execution_count": 12,
   "id": "entire-guatemala",
   "metadata": {},
   "outputs": [
    {
     "data": {
      "text/plain": [
       "tensor([[-2.8369e+00,  7.7504e+00, -2.4816e+00],\n",
       "        [ 1.5184e+00, -6.3370e+00,  3.5579e+00],\n",
       "        [ 1.0258e+00, -1.6035e+00, -2.8111e+00],\n",
       "        [ 3.2321e+00,  2.1878e+00,  5.9918e+00],\n",
       "        [-5.1884e+00, -1.3402e+00,  4.3353e+00],\n",
       "        [-1.2002e+00,  7.2538e+00,  2.9223e+00],\n",
       "        [ 1.6699e+00,  6.1044e+00, -2.8309e+00],\n",
       "        [-4.8507e+00,  3.5403e+00, -4.0902e+00],\n",
       "        [ 2.3467e+00, -8.4755e+00, -4.2389e-01],\n",
       "        [ 1.7079e+00,  6.6942e+00,  2.2789e+00],\n",
       "        [-3.1285e+00, -5.5589e+00, -5.5849e-01],\n",
       "        [ 1.7193e+00, -3.4962e+00, -2.9912e-01],\n",
       "        [-5.8456e+00, -1.2586e+00,  4.5023e+00],\n",
       "        [-7.6010e+00,  1.0743e+00, -3.2515e+00],\n",
       "        [-3.4443e+00,  6.7479e+00,  4.1958e+00],\n",
       "        [ 3.6314e+00,  6.5667e+00,  1.0565e+00],\n",
       "        [-2.6004e+00,  8.4655e+00, -3.7826e+00],\n",
       "        [-1.5111e+00, -7.8324e+00, -3.3211e+00],\n",
       "        [-4.8606e+00,  4.2763e+00,  2.9370e+00],\n",
       "        [ 6.0161e+00, -4.0741e+00,  3.7691e-02],\n",
       "        [-3.5852e-01, -2.9338e+00, -2.3566e+00],\n",
       "        [ 5.9609e+00,  7.0666e+00,  1.1968e-01],\n",
       "        [ 3.1930e+00,  7.7605e-02,  6.0946e+00],\n",
       "        [-8.6682e+00,  4.9660e+00, -5.7903e-01],\n",
       "        [-5.7801e+00,  5.6985e+00,  7.3668e+00],\n",
       "        [-3.7374e+00,  1.2232e+01,  1.3141e+00],\n",
       "        [-3.0086e+00,  2.0284e+00, -7.5093e+00],\n",
       "        [-3.8348e+00,  4.6007e+00, -1.5071e+00],\n",
       "        [ 5.0194e+00, -4.8241e+00,  1.2589e+00],\n",
       "        [ 1.0054e+00,  1.5608e+00,  3.2834e+00],\n",
       "        [-5.3364e+00, -7.1667e+00, -3.2115e+00],\n",
       "        [ 2.0588e+00, -2.1281e+00, -7.0691e+00],\n",
       "        [-3.1263e+00,  7.8115e+00, -2.7363e+00],\n",
       "        [-6.3582e+00,  2.8167e+00, -7.9357e+00],\n",
       "        [-1.0590e+01,  3.4140e+00, -3.2918e-01],\n",
       "        [-3.6000e+00, -2.3497e-01,  8.4548e+00],\n",
       "        [ 6.5442e+00, -2.0291e+00, -2.7725e-01],\n",
       "        [-8.2996e+00,  1.9597e+00,  1.3073e-02],\n",
       "        [ 1.0018e+00, -3.9731e-01,  2.5166e+00],\n",
       "        [ 5.7503e-01,  4.2367e+00, -3.2062e+00],\n",
       "        [-4.3564e-01, -1.4953e+00, -4.6352e+00],\n",
       "        [ 6.1975e+00, -4.8565e+00, -1.8594e+00],\n",
       "        [ 7.8521e+00,  7.6786e-01, -3.7544e+00],\n",
       "        [ 8.2412e+00,  7.2400e-01,  2.4893e+00],\n",
       "        [ 9.6096e-01, -6.3994e+00,  5.6467e+00],\n",
       "        [ 6.4743e+00,  3.3237e+00,  3.4586e+00],\n",
       "        [-4.8121e+00, -1.0565e+00, -3.6229e+00],\n",
       "        [-2.1436e+00, -2.7036e+00,  1.4408e+00],\n",
       "        [-3.0114e+00,  4.5699e+00, -3.1981e+00],\n",
       "        [ 1.6825e+00,  2.3929e-01, -6.9392e+00],\n",
       "        [ 5.5798e+00,  5.5658e-02,  1.0600e+00],\n",
       "        [ 5.4357e+00,  5.6106e+00, -2.5437e+00],\n",
       "        [ 1.8920e+00,  5.9747e+00,  4.3552e+00],\n",
       "        [-5.4701e+00, -5.1517e+00, -1.6907e+00],\n",
       "        [-5.5358e+00,  2.5381e+00,  4.5979e+00],\n",
       "        [ 4.5463e+00, -1.9130e+00, -3.0983e+00],\n",
       "        [ 2.1021e+00, -2.4649e+00,  1.5409e-01],\n",
       "        [-3.9075e+00,  3.0554e+00, -8.8608e+00],\n",
       "        [ 2.7724e+00,  8.3252e+00, -4.4203e+00],\n",
       "        [-2.4481e+00,  6.1699e+00,  3.7741e+00],\n",
       "        [-6.3335e+00,  8.3204e+00, -1.9278e+00],\n",
       "        [-8.3535e+00,  1.5838e+00,  6.2449e-01],\n",
       "        [ 3.5629e+00, -5.5074e+00, -6.2873e+00],\n",
       "        [ 9.8944e-01,  6.4515e+00,  9.0257e-01],\n",
       "        [-4.7739e-01, -5.9810e+00, -6.0437e-01],\n",
       "        [ 1.8543e+00, -6.2029e-01, -2.0154e+00],\n",
       "        [-3.9467e+00, -9.2490e-01,  7.7786e+00],\n",
       "        [-9.2105e+00, -8.4382e-01,  4.4801e-01],\n",
       "        [-3.6297e+00,  6.0594e+00,  5.8316e+00],\n",
       "        [ 3.0007e-01,  6.2468e+00,  1.5861e+00],\n",
       "        [-5.7727e+00,  6.9480e+00,  1.1408e-02],\n",
       "        [ 8.7172e-01, -7.6345e+00, -1.8961e+00],\n",
       "        [ 1.9741e-01,  1.0429e+00,  7.6101e+00],\n",
       "        [ 2.4768e-01,  4.7101e-01, -7.5445e+00],\n",
       "        [ 1.4491e+00, -2.6529e+00, -2.0077e+00],\n",
       "        [-7.7148e+00,  2.8503e+00, -2.0582e+00],\n",
       "        [ 2.1492e-01,  7.5302e+00, -3.1099e+00],\n",
       "        [-4.4324e+00,  5.7582e+00,  7.0827e+00],\n",
       "        [-4.4462e+00, -1.6235e+00,  7.4216e+00],\n",
       "        [ 3.2338e+00,  2.8939e+00,  6.7365e+00],\n",
       "        [-2.3579e+00, -6.9922e+00,  3.7148e-01],\n",
       "        [-3.2711e-01,  7.3244e+00,  3.2057e+00],\n",
       "        [-1.4488e+00, -6.0550e+00, -2.3976e+00],\n",
       "        [-1.0663e+00, -3.2651e+00,  1.5146e-01],\n",
       "        [ 3.2533e+00,  1.9631e+00, -7.0876e+00],\n",
       "        [ 9.4255e+00,  1.9374e-02, -3.3684e+00],\n",
       "        [ 9.8689e-01,  7.3449e+00, -1.3801e+00],\n",
       "        [ 7.4485e+00,  7.6054e+00,  2.3264e+00],\n",
       "        [ 6.9509e+00,  8.0862e+00, -3.7061e+00],\n",
       "        [ 2.3382e+00,  1.5366e+00,  4.2632e+00]], device='cuda:0')"
      ]
     },
     "execution_count": 12,
     "metadata": {},
     "output_type": "execute_result"
    }
   ],
   "source": [
    "new_results['energy_grad']"
   ]
  },
  {
   "cell_type": "code",
   "execution_count": 13,
   "id": "tutorial-assumption",
   "metadata": {},
   "outputs": [
    {
     "data": {
      "text/plain": [
       "tensor([[-2.8369e+00,  7.7504e+00, -2.4816e+00],\n",
       "        [ 1.5184e+00, -6.3370e+00,  3.5579e+00],\n",
       "        [ 1.0258e+00, -1.6035e+00, -2.8111e+00],\n",
       "        [ 3.2321e+00,  2.1878e+00,  5.9918e+00],\n",
       "        [-5.1884e+00, -1.3402e+00,  4.3353e+00],\n",
       "        [-1.2002e+00,  7.2538e+00,  2.9223e+00],\n",
       "        [ 1.6699e+00,  6.1044e+00, -2.8309e+00],\n",
       "        [-4.8507e+00,  3.5403e+00, -4.0902e+00],\n",
       "        [ 2.3467e+00, -8.4755e+00, -4.2389e-01],\n",
       "        [ 1.7079e+00,  6.6942e+00,  2.2789e+00],\n",
       "        [-3.1285e+00, -5.5589e+00, -5.5849e-01],\n",
       "        [ 1.7193e+00, -3.4962e+00, -2.9912e-01],\n",
       "        [-5.8456e+00, -1.2586e+00,  4.5023e+00],\n",
       "        [-7.6010e+00,  1.0743e+00, -3.2515e+00],\n",
       "        [-3.4443e+00,  6.7479e+00,  4.1958e+00],\n",
       "        [ 3.6314e+00,  6.5667e+00,  1.0565e+00],\n",
       "        [-2.6004e+00,  8.4655e+00, -3.7826e+00],\n",
       "        [-1.5111e+00, -7.8324e+00, -3.3211e+00],\n",
       "        [-4.8606e+00,  4.2763e+00,  2.9370e+00],\n",
       "        [ 6.0161e+00, -4.0741e+00,  3.7690e-02],\n",
       "        [-3.5852e-01, -2.9338e+00, -2.3566e+00],\n",
       "        [ 5.9609e+00,  7.0666e+00,  1.1968e-01],\n",
       "        [ 3.1930e+00,  7.7604e-02,  6.0946e+00],\n",
       "        [-8.6682e+00,  4.9660e+00, -5.7903e-01],\n",
       "        [-5.7801e+00,  5.6985e+00,  7.3668e+00],\n",
       "        [-3.7374e+00,  1.2232e+01,  1.3141e+00],\n",
       "        [-3.0086e+00,  2.0284e+00, -7.5093e+00],\n",
       "        [-3.8348e+00,  4.6007e+00, -1.5071e+00],\n",
       "        [ 5.0194e+00, -4.8241e+00,  1.2589e+00],\n",
       "        [ 1.0054e+00,  1.5608e+00,  3.2834e+00],\n",
       "        [-5.3364e+00, -7.1667e+00, -3.2115e+00],\n",
       "        [ 2.0588e+00, -2.1281e+00, -7.0691e+00],\n",
       "        [-3.1263e+00,  7.8114e+00, -2.7363e+00],\n",
       "        [-6.3582e+00,  2.8167e+00, -7.9357e+00],\n",
       "        [-1.0590e+01,  3.4140e+00, -3.2918e-01],\n",
       "        [-3.6000e+00, -2.3497e-01,  8.4548e+00],\n",
       "        [ 6.5442e+00, -2.0291e+00, -2.7725e-01],\n",
       "        [-8.2996e+00,  1.9597e+00,  1.3072e-02],\n",
       "        [ 1.0018e+00, -3.9731e-01,  2.5166e+00],\n",
       "        [ 5.7503e-01,  4.2367e+00, -3.2062e+00],\n",
       "        [-4.3564e-01, -1.4953e+00, -4.6352e+00],\n",
       "        [ 6.1975e+00, -4.8565e+00, -1.8594e+00],\n",
       "        [ 7.8521e+00,  7.6786e-01, -3.7544e+00],\n",
       "        [ 8.2412e+00,  7.2400e-01,  2.4893e+00],\n",
       "        [ 9.6097e-01, -6.3994e+00,  5.6467e+00],\n",
       "        [ 6.4743e+00,  3.3237e+00,  3.4586e+00],\n",
       "        [-4.8121e+00, -1.0565e+00, -3.6229e+00],\n",
       "        [-2.1436e+00, -2.7036e+00,  1.4408e+00],\n",
       "        [-3.0114e+00,  4.5699e+00, -3.1981e+00],\n",
       "        [ 1.6825e+00,  2.3929e-01, -6.9392e+00],\n",
       "        [ 5.5798e+00,  5.5659e-02,  1.0600e+00],\n",
       "        [ 5.4357e+00,  5.6106e+00, -2.5437e+00],\n",
       "        [ 1.8920e+00,  5.9747e+00,  4.3552e+00],\n",
       "        [-5.4700e+00, -5.1517e+00, -1.6907e+00],\n",
       "        [-5.5358e+00,  2.5381e+00,  4.5979e+00],\n",
       "        [ 4.5463e+00, -1.9131e+00, -3.0983e+00],\n",
       "        [ 2.1021e+00, -2.4648e+00,  1.5409e-01],\n",
       "        [-3.9075e+00,  3.0554e+00, -8.8608e+00],\n",
       "        [ 2.7724e+00,  8.3253e+00, -4.4203e+00],\n",
       "        [-2.4481e+00,  6.1698e+00,  3.7741e+00],\n",
       "        [-6.3335e+00,  8.3204e+00, -1.9278e+00],\n",
       "        [-8.3535e+00,  1.5838e+00,  6.2450e-01],\n",
       "        [ 3.5629e+00, -5.5074e+00, -6.2873e+00],\n",
       "        [ 9.8944e-01,  6.4515e+00,  9.0257e-01],\n",
       "        [-4.7739e-01, -5.9810e+00, -6.0437e-01],\n",
       "        [ 1.8543e+00, -6.2030e-01, -2.0154e+00],\n",
       "        [-3.9467e+00, -9.2490e-01,  7.7786e+00],\n",
       "        [-9.2105e+00, -8.4382e-01,  4.4802e-01],\n",
       "        [-3.6297e+00,  6.0594e+00,  5.8316e+00],\n",
       "        [ 3.0006e-01,  6.2468e+00,  1.5861e+00],\n",
       "        [-5.7727e+00,  6.9480e+00,  1.1410e-02],\n",
       "        [ 8.7172e-01, -7.6345e+00, -1.8961e+00],\n",
       "        [ 1.9741e-01,  1.0429e+00,  7.6102e+00],\n",
       "        [ 2.4768e-01,  4.7101e-01, -7.5445e+00],\n",
       "        [ 1.4491e+00, -2.6529e+00, -2.0077e+00],\n",
       "        [-7.7148e+00,  2.8503e+00, -2.0582e+00],\n",
       "        [ 2.1492e-01,  7.5302e+00, -3.1099e+00],\n",
       "        [-4.4324e+00,  5.7582e+00,  7.0826e+00],\n",
       "        [-4.4462e+00, -1.6235e+00,  7.4216e+00],\n",
       "        [ 3.2338e+00,  2.8939e+00,  6.7365e+00],\n",
       "        [-2.3579e+00, -6.9922e+00,  3.7148e-01],\n",
       "        [-3.2712e-01,  7.3244e+00,  3.2057e+00],\n",
       "        [-1.4488e+00, -6.0550e+00, -2.3976e+00],\n",
       "        [-1.0663e+00, -3.2651e+00,  1.5146e-01],\n",
       "        [ 3.2533e+00,  1.9631e+00, -7.0876e+00],\n",
       "        [ 9.4255e+00,  1.9372e-02, -3.3684e+00],\n",
       "        [ 9.8689e-01,  7.3449e+00, -1.3801e+00],\n",
       "        [ 7.4485e+00,  7.6054e+00,  2.3264e+00],\n",
       "        [ 6.9509e+00,  8.0862e+00, -3.7061e+00],\n",
       "        [ 2.3382e+00,  1.5366e+00,  4.2632e+00]], device='cuda:0')"
      ]
     },
     "execution_count": 13,
     "metadata": {},
     "output_type": "execute_result"
    }
   ],
   "source": [
    "results['energy_grad'] @ rotate"
   ]
  },
  {
   "cell_type": "code",
   "execution_count": null,
   "id": "applied-logging",
   "metadata": {},
   "outputs": [],
   "source": []
  }
 ],
 "metadata": {
  "kernelspec": {
   "display_name": "Python [conda env:nff]",
   "language": "python",
   "name": "nff"
  },
  "language_info": {
   "codemirror_mode": {
    "name": "ipython",
    "version": 3
   },
   "file_extension": ".py",
   "mimetype": "text/x-python",
   "name": "python",
   "nbconvert_exporter": "python",
   "pygments_lexer": "ipython3",
   "version": "3.7.10"
  }
 },
 "nbformat": 4,
 "nbformat_minor": 5
}
