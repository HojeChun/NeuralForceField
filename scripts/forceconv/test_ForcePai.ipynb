{
 "cells": [
  {
   "cell_type": "code",
   "execution_count": 1,
   "id": "returning-franchise",
   "metadata": {},
   "outputs": [],
   "source": [
    "import sys\n",
    "from pathlib import Path\n",
    "\n",
    "# change to your NFF path\n",
    "sys.path.insert(0, \"..\")\n",
    "sys.path.insert(0, \"../..\")\n",
    "sys.path.insert(0, \"../../../\")\n",
    "\n",
    "import os\n",
    "import shutil\n",
    "import numpy as np\n",
    "import matplotlib.pyplot as plt\n",
    "import copy\n",
    "\n",
    "import torch\n",
    "from torch.optim import Adam\n",
    "from torch.utils.data import DataLoader\n",
    "from torch.utils.data.sampler import RandomSampler\n",
    "\n",
    "from nff.data import Dataset, split_train_validation_test, collate_dicts, to_tensor\n",
    "from nff.train import Trainer, get_trainer, get_model, load_model, loss, hooks, metrics, evaluate\n",
    "\n",
    "import argparse\n",
    "from sigopt import Connection\n",
    "\n",
    "from train import train\n",
    "from forceconv import *\n",
    "\n",
    "from MD17data import *\n",
    "\n",
    "from forcepai import ForcePai\n",
    "# from nff.nn.models import Painn\n",
    "from forcedime import ForceDime"
   ]
  },
  {
   "cell_type": "code",
   "execution_count": 2,
   "id": "south-military",
   "metadata": {},
   "outputs": [],
   "source": [
    "parser = argparse.ArgumentParser()\n",
    "parser.add_argument(\"-logdir\", type=str, default='./output')\n",
    "parser.add_argument(\"-device\", type=int, default=0)\n",
    "parser.add_argument(\"-data\", type=str, default='ethanol_dft')\n",
    "params = vars(parser.parse_args([]))\n",
    "\n",
    "DEVICE = params['device']\n",
    "OUTDIR = '{}/{}/sandbox'.format(params['logdir'], 'test_ForcePai')\n",
    "\n",
    "BATCH_SIZE = 10\n",
    "lr = 1e-5\n",
    "n_epochs = 100"
   ]
  },
  {
   "cell_type": "code",
   "execution_count": 3,
   "id": "selected-affect",
   "metadata": {},
   "outputs": [
    {
     "name": "stderr",
     "output_type": "stream",
     "text": [
      "100%|██████████| 10000/10000 [00:31<00:00, 315.11it/s]\n"
     ]
    },
    {
     "name": "stdout",
     "output_type": "stream",
     "text": [
      "Adding kj and ji indices with 1 parallel processes\n"
     ]
    },
    {
     "name": "stderr",
     "output_type": "stream",
     "text": [
      "100%|██████████| 10000/10000 [00:03<00:00, 2591.71it/s]\n"
     ]
    }
   ],
   "source": [
    "data = get_MD17data(params['data'])\n",
    "dataset = pack_MD17data(data, 10000)\n",
    "dataset.generate_angle_list()\n",
    "dataset.generate_kj_ji()"
   ]
  },
  {
   "cell_type": "code",
   "execution_count": 4,
   "id": "incorrect-commodity",
   "metadata": {},
   "outputs": [],
   "source": [
    "train, val, test = split_train_validation_test(dataset, val_size=0.05, test_size=0.85)\n",
    "train_loader = DataLoader(train, batch_size=BATCH_SIZE, collate_fn=collate_dicts)\n",
    "val_loader = DataLoader(val, batch_size=BATCH_SIZE, collate_fn=collate_dicts)\n",
    "test_loader = DataLoader(test, batch_size=BATCH_SIZE, collate_fn=collate_dicts)"
   ]
  },
  {
   "cell_type": "code",
   "execution_count": 5,
   "id": "better-miracle",
   "metadata": {},
   "outputs": [],
   "source": [
    "# modelparams = {\"feat_dim\": 128,\n",
    "#               \"activation\": \"swish\",\n",
    "#               \"n_rbf\": 20,\n",
    "#               \"cutoff\": 5.0,\n",
    "#               \"num_conv\": 3,\n",
    "#               \"output_keys\": [\"energy\"],\n",
    "#               \"grad_keys\": [\"energy_grad\"],\n",
    "#                # whether to sum outputs from all blocks in the model\n",
    "#                # or just the final output block. False in the original\n",
    "#                # implementation\n",
    "#               \"skip_connection\": False,\n",
    "#                # Whether the k parameters in the Bessel basis functions\n",
    "#                # are learnable. False originally\n",
    "#               \"learnable_k\": False,\n",
    "#                # dropout rate in the convolution layers, originally 0\n",
    "#                \"conv_dropout\": 0.0,\n",
    "#                # dropout rate in the readout layers, originally 0\n",
    "#                \"readout_dropout\": 0.0,\n",
    "#                # dictionary of means to add to each output key\n",
    "#                # (this is optional - if you don't supply it then\n",
    "#                # nothing will be added)\n",
    "#                # \"means\": {\"energy\": train.props['energy'].mean().item()},\n",
    "#                # dictionary of standard devations with which to \n",
    "#                # multiply each output key\n",
    "#                # (this is optional - if you don't supply it then\n",
    "#                # nothing will be multiplied)\n",
    "#                # \"stddevs\": {\"energy\": train.props['energy'].std().item()}\n",
    "#               }\n",
    "# model = ForcePai(modelparams).to(DEVICE)\n",
    "model = ForceDime(n_rbf=16, cutoff=5, \n",
    "                envelope_p=8, l_spher=6, \n",
    "                n_spher=6, embed_dim=128, \n",
    "                activation='ReLU', \n",
    "                n_bilinear=8, \n",
    "                n_convolutions=6).to(DEVICE)"
   ]
  },
  {
   "cell_type": "code",
   "execution_count": 6,
   "id": "social-invalid",
   "metadata": {},
   "outputs": [],
   "source": [
    "loss_fn = loss.build_mse_loss(loss_coef={'energy_grad': 1})\n",
    "trainable_params = filter(lambda p: p.requires_grad, model.parameters())\n",
    "optimizer = Adam(trainable_params, lr=lr)\n",
    "train_metrics = [\n",
    "        metrics.MeanAbsoluteError('energy_grad')\n",
    "    ]"
   ]
  },
  {
   "cell_type": "code",
   "execution_count": null,
   "id": "important-summit",
   "metadata": {},
   "outputs": [],
   "source": [
    "train_hooks = [\n",
    "    hooks.MaxEpochHook(n_epochs),\n",
    "    hooks.CSVHook(\n",
    "        OUTDIR,\n",
    "        metrics=train_metrics,\n",
    "    ),\n",
    "    hooks.PrintingHook(\n",
    "        OUTDIR,\n",
    "        metrics=train_metrics,\n",
    "        separator = ' | ',\n",
    "        time_strf='%M:%S'\n",
    "    ),\n",
    "    hooks.ReduceLROnPlateauHook(\n",
    "        optimizer=optimizer,\n",
    "        patience=20,\n",
    "        factor=0.5,\n",
    "        min_lr=1e-7,\n",
    "        window_length=1,\n",
    "        stop_after_min=True\n",
    "    )\n",
    "]\n",
    "\n",
    "T = Trainer(\n",
    "    model_path=OUTDIR,\n",
    "    model=model,\n",
    "    loss_fn=loss_fn,\n",
    "    optimizer=optimizer,\n",
    "    train_loader=train_loader,\n",
    "    validation_loader=val_loader,\n",
    "    checkpoint_interval=1,\n",
    "    hooks=train_hooks,\n",
    "    mini_batches=1\n",
    ")\n",
    "\n",
    "T.train(device=DEVICE, n_epochs=1000)"
   ]
  },
  {
   "cell_type": "code",
   "execution_count": 6,
   "id": "surgical-somerset",
   "metadata": {},
   "outputs": [],
   "source": [
    "from nff.utils.cuda import batch_to, batch_detach\n",
    "data = None\n",
    "for batch in train_loader:\n",
    "    data = batch_to(batch, DEVICE)\n",
    "    break"
   ]
  },
  {
   "cell_type": "code",
   "execution_count": 7,
   "id": "incomplete-discretion",
   "metadata": {},
   "outputs": [
    {
     "data": {
      "text/plain": [
       "tensor([[ 0.7071, -0.7071,  0.0000],\n",
       "        [ 0.7071,  0.7071,  0.0000],\n",
       "        [ 0.0000,  0.0000,  1.0000]], device='cuda:0')"
      ]
     },
     "execution_count": 7,
     "metadata": {},
     "output_type": "execute_result"
    }
   ],
   "source": [
    "rotate = torch.Tensor([[2**.5/2, -2**.5/2, 0],\n",
    "                       [2**.5/2, 2**.5/2, 0],\n",
    "                       [0, 0, 1]]).to(DEVICE)\n",
    "rotate"
   ]
  },
  {
   "cell_type": "code",
   "execution_count": 10,
   "id": "distributed-labor",
   "metadata": {},
   "outputs": [],
   "source": [
    "data['nxyz'][:, 1:4] @= rotate"
   ]
  },
  {
   "cell_type": "code",
   "execution_count": 8,
   "id": "associate-interim",
   "metadata": {},
   "outputs": [],
   "source": [
    "results = model(data)"
   ]
  },
  {
   "cell_type": "code",
   "execution_count": 14,
   "id": "laden-assignment",
   "metadata": {},
   "outputs": [
    {
     "data": {
      "text/plain": [
       "tensor([[-1.0722e+03,  1.1523e+03,  8.6197e+02],\n",
       "        [-9.8423e+01,  1.4868e+03, -2.4637e+03],\n",
       "        [-1.4931e+03, -1.4301e+03,  2.3252e+03],\n",
       "        [-1.5726e+03, -2.6473e+02, -5.2165e+02],\n",
       "        [ 1.1930e+03, -5.4715e+02,  5.3697e+02],\n",
       "        [ 1.2766e+03, -7.9235e+02, -1.5353e+03],\n",
       "        [ 3.1403e+02,  2.0515e+03, -5.1553e+00],\n",
       "        [ 1.1618e+03, -7.1864e+02,  7.5970e+02],\n",
       "        [ 2.9098e+02, -9.3761e+02,  4.1973e+01],\n",
       "        [ 2.2651e+03, -9.0017e+02,  1.2873e+03],\n",
       "        [-4.0078e+03,  2.8971e+03, -1.3678e+03],\n",
       "        [-2.1901e+03, -7.8504e+02,  2.4547e+03],\n",
       "        [-5.7116e+02,  8.9997e+02, -1.1296e+02],\n",
       "        [-3.2031e+02, -1.9820e+02, -1.1321e+03],\n",
       "        [-1.3173e+02, -1.6018e+02, -3.8183e+02],\n",
       "        [ 1.1852e+03,  8.2448e+02, -2.0167e+02],\n",
       "        [ 7.3757e+02, -7.2273e+02, -1.1219e+03],\n",
       "        [ 3.0334e+03, -1.8552e+03,  5.7613e+02],\n",
       "        [ 8.5046e+02,  2.0030e+03, -7.4193e+02],\n",
       "        [-2.2384e+03, -5.5095e+02, -9.8390e+02],\n",
       "        [-2.9582e+02, -2.0246e+03,  5.9947e+02],\n",
       "        [-3.0878e+02,  8.1577e+02,  6.4486e+02],\n",
       "        [ 1.2372e+03, -1.8043e+03, -2.8106e+01],\n",
       "        [-8.8967e+02, -8.6775e+01,  8.3938e+02],\n",
       "        [ 1.9398e+03,  2.1103e+03, -2.1723e+03],\n",
       "        [-1.3579e+03,  2.1695e+02,  5.7881e+00],\n",
       "        [ 1.0631e+03, -6.7938e+02,  1.8367e+03],\n",
       "        [-4.8440e+02, -9.1138e+02,  3.2340e+00],\n",
       "        [-1.1538e+03,  2.5359e+03,  2.6917e+03],\n",
       "        [ 1.7141e+03, -3.5358e+03, -8.8661e+02],\n",
       "        [ 1.2085e+02,  1.2650e+03, -1.2179e+03],\n",
       "        [-1.3620e+03,  1.1814e+02, -8.9578e+02],\n",
       "        [ 8.7727e+02, -6.5085e+02, -7.0276e+02],\n",
       "        [ 9.8597e+02,  1.0021e+03, -5.2009e+02],\n",
       "        [-8.5309e+02, -7.1724e+02,  1.0278e+03],\n",
       "        [ 1.5511e+02,  8.9416e+02,  5.0043e+02],\n",
       "        [ 6.8444e+01, -2.1043e+03,  6.6613e+02],\n",
       "        [ 1.2050e+03,  2.6393e+03,  7.0251e+02],\n",
       "        [ 1.3956e+03,  1.1949e+03, -1.9557e+03],\n",
       "        [-1.2272e+03, -2.7923e+02, -6.4934e+02],\n",
       "        [ 1.2192e+03, -3.8115e+01,  6.2359e+02],\n",
       "        [-1.9335e+03,  7.3241e+02,  1.1130e+03],\n",
       "        [-2.0940e+02,  1.0572e+03, -1.5542e+03],\n",
       "        [-8.6131e+02, -6.7033e+02,  4.6658e+02],\n",
       "        [ 3.4315e+02, -2.5319e+03,  5.8742e+02],\n",
       "        [ 8.1499e+01, -1.5786e+03, -9.5753e+02],\n",
       "        [ 6.1162e+02,  2.8708e+03,  2.0016e+03],\n",
       "        [-1.0032e+03,  4.9298e+02,  1.1333e+03],\n",
       "        [ 1.7178e+03, -2.6057e+02, -1.7539e+03],\n",
       "        [-1.3805e+03, -1.8574e+02, -6.5256e+02],\n",
       "        [ 2.2546e+03, -6.6797e+02,  5.3090e+02],\n",
       "        [-1.0587e+03,  2.4254e+02, -1.2936e+02],\n",
       "        [-1.2917e+03, -4.5871e+01, -1.1350e+03],\n",
       "        [ 6.8592e+01, -8.6748e+02,  9.6257e+02],\n",
       "        [-7.1922e+01, -1.4523e+03, -8.4408e+02],\n",
       "        [ 9.0621e+02,  2.2572e+03,  2.2373e+03],\n",
       "        [ 2.6290e+03,  9.1710e+02, -2.0476e+02],\n",
       "        [-5.2239e+02,  1.3762e+03, -7.8742e+02],\n",
       "        [-1.3551e+03,  6.1741e+02,  1.0688e+03],\n",
       "        [-8.5712e+02, -2.1723e+02,  4.2546e+02],\n",
       "        [-4.6363e+01,  3.4127e+02, -1.4588e+03],\n",
       "        [-1.1644e+03, -1.2452e+03, -1.7896e+02],\n",
       "        [ 4.8215e+02, -2.5944e+03, -2.5750e+02],\n",
       "        [-5.5699e+02, -2.5641e+03, -1.2797e+03],\n",
       "        [ 2.0864e+03,  2.7227e+03,  1.4314e+02],\n",
       "        [-8.4539e+02,  4.3837e+02,  2.8853e+03],\n",
       "        [ 1.5342e+03,  7.7201e+01,  5.3966e+02],\n",
       "        [-6.6308e+02, -4.1201e+02, -4.8127e+02],\n",
       "        [ 1.7656e+02,  8.5936e+02,  1.0177e+03],\n",
       "        [ 6.4848e+02,  2.4778e+02, -9.3763e+02],\n",
       "        [-1.3097e+03,  9.3895e+02, -9.8544e+02],\n",
       "        [-1.0706e+03, -2.3082e+03, -9.0173e+02],\n",
       "        [ 1.9792e+03, -1.8474e+02,  2.3739e+03],\n",
       "        [-4.7043e+03,  1.1232e+03, -1.7177e+03],\n",
       "        [-3.9147e+02, -1.5176e+03, -1.0175e+03],\n",
       "        [-4.8369e+02, -1.2821e+03,  5.3189e+02],\n",
       "        [ 6.8198e+02,  1.3584e+03, -8.1639e+02],\n",
       "        [ 9.0471e+02,  6.9042e+02, -3.4497e+02],\n",
       "        [-6.8269e+00,  1.4242e+02, -6.1960e+02],\n",
       "        [ 3.7274e+02,  1.6530e+02,  1.6793e+03],\n",
       "        [ 1.6476e+03, -4.9532e+02, -6.9061e+01],\n",
       "        [ 5.0371e+02,  2.0729e+03,  2.6252e+02],\n",
       "        [-8.2201e+02, -1.8102e+03,  1.0459e+03],\n",
       "        [ 2.8567e+02, -3.0615e+03, -2.1349e+03],\n",
       "        [ 8.8249e+01, -1.8010e+02,  1.3398e+03],\n",
       "        [ 7.4231e+02, -9.3112e+01, -8.8443e+02],\n",
       "        [-9.0674e+02,  1.0163e+03, -1.4701e+03],\n",
       "        [-2.4489e+03,  6.1452e+01, -4.4791e+02],\n",
       "        [ 2.1929e+03,  3.2342e+03,  8.0007e+02],\n",
       "        [ 3.6477e+02, -1.2399e+03,  1.4890e+03]], device='cuda:0',\n",
       "       grad_fn=<MmBackward>)"
      ]
     },
     "execution_count": 14,
     "metadata": {},
     "output_type": "execute_result"
    }
   ],
   "source": [
    "results[0]['energy_grad'] @ rotate"
   ]
  },
  {
   "cell_type": "code",
   "execution_count": 11,
   "id": "alpha-oregon",
   "metadata": {},
   "outputs": [],
   "source": [
    "new_results = model(data)"
   ]
  },
  {
   "cell_type": "code",
   "execution_count": 15,
   "id": "entire-guatemala",
   "metadata": {},
   "outputs": [
    {
     "data": {
      "text/plain": [
       "tensor([[-1.0722e+03,  1.1523e+03,  8.6197e+02],\n",
       "        [-9.8426e+01,  1.4868e+03, -2.4637e+03],\n",
       "        [-1.4931e+03, -1.4301e+03,  2.3252e+03],\n",
       "        [-1.5726e+03, -2.6472e+02, -5.2164e+02],\n",
       "        [ 1.1930e+03, -5.4715e+02,  5.3697e+02],\n",
       "        [ 1.2766e+03, -7.9234e+02, -1.5353e+03],\n",
       "        [ 3.1403e+02,  2.0515e+03, -5.1567e+00],\n",
       "        [ 1.1618e+03, -7.1864e+02,  7.5970e+02],\n",
       "        [ 2.9098e+02, -9.3760e+02,  4.1966e+01],\n",
       "        [ 2.2651e+03, -9.0017e+02,  1.2873e+03],\n",
       "        [-4.0078e+03,  2.8971e+03, -1.3678e+03],\n",
       "        [-2.1901e+03, -7.8504e+02,  2.4547e+03],\n",
       "        [-5.7116e+02,  8.9997e+02, -1.1296e+02],\n",
       "        [-3.2031e+02, -1.9820e+02, -1.1321e+03],\n",
       "        [-1.3173e+02, -1.6018e+02, -3.8183e+02],\n",
       "        [ 1.1852e+03,  8.2448e+02, -2.0167e+02],\n",
       "        [ 7.3757e+02, -7.2273e+02, -1.1219e+03],\n",
       "        [ 3.0334e+03, -1.8553e+03,  5.7614e+02],\n",
       "        [ 8.5046e+02,  2.0030e+03, -7.4193e+02],\n",
       "        [-2.2384e+03, -5.5095e+02, -9.8390e+02],\n",
       "        [-2.9582e+02, -2.0246e+03,  5.9947e+02],\n",
       "        [-3.0878e+02,  8.1577e+02,  6.4486e+02],\n",
       "        [ 1.2372e+03, -1.8043e+03, -2.8105e+01],\n",
       "        [-8.8967e+02, -8.6773e+01,  8.3938e+02],\n",
       "        [ 1.9398e+03,  2.1103e+03, -2.1723e+03],\n",
       "        [-1.3579e+03,  2.1695e+02,  5.7874e+00],\n",
       "        [ 1.0631e+03, -6.7938e+02,  1.8367e+03],\n",
       "        [-4.8440e+02, -9.1138e+02,  3.2332e+00],\n",
       "        [-1.1538e+03,  2.5359e+03,  2.6917e+03],\n",
       "        [ 1.7141e+03, -3.5358e+03, -8.8662e+02],\n",
       "        [ 1.2085e+02,  1.2650e+03, -1.2179e+03],\n",
       "        [-1.3620e+03,  1.1814e+02, -8.9578e+02],\n",
       "        [ 8.7726e+02, -6.5085e+02, -7.0276e+02],\n",
       "        [ 9.8597e+02,  1.0021e+03, -5.2009e+02],\n",
       "        [-8.5309e+02, -7.1724e+02,  1.0278e+03],\n",
       "        [ 1.5510e+02,  8.9417e+02,  5.0043e+02],\n",
       "        [ 6.8444e+01, -2.1043e+03,  6.6613e+02],\n",
       "        [ 1.2050e+03,  2.6393e+03,  7.0251e+02],\n",
       "        [ 1.3956e+03,  1.1949e+03, -1.9557e+03],\n",
       "        [-1.2272e+03, -2.7923e+02, -6.4934e+02],\n",
       "        [ 1.2192e+03, -3.8115e+01,  6.2359e+02],\n",
       "        [-1.9335e+03,  7.3241e+02,  1.1130e+03],\n",
       "        [-2.0940e+02,  1.0572e+03, -1.5542e+03],\n",
       "        [-8.6131e+02, -6.7033e+02,  4.6658e+02],\n",
       "        [ 3.4315e+02, -2.5319e+03,  5.8742e+02],\n",
       "        [ 8.1499e+01, -1.5786e+03, -9.5753e+02],\n",
       "        [ 6.1162e+02,  2.8708e+03,  2.0016e+03],\n",
       "        [-1.0032e+03,  4.9298e+02,  1.1333e+03],\n",
       "        [ 1.7178e+03, -2.6057e+02, -1.7539e+03],\n",
       "        [-1.3805e+03, -1.8574e+02, -6.5256e+02],\n",
       "        [ 2.2546e+03, -6.6797e+02,  5.3090e+02],\n",
       "        [-1.0587e+03,  2.4254e+02, -1.2936e+02],\n",
       "        [-1.2917e+03, -4.5871e+01, -1.1350e+03],\n",
       "        [ 6.8590e+01, -8.6748e+02,  9.6258e+02],\n",
       "        [-7.1928e+01, -1.4523e+03, -8.4408e+02],\n",
       "        [ 9.0621e+02,  2.2572e+03,  2.2373e+03],\n",
       "        [ 2.6290e+03,  9.1713e+02, -2.0475e+02],\n",
       "        [-5.2239e+02,  1.3762e+03, -7.8742e+02],\n",
       "        [-1.3551e+03,  6.1741e+02,  1.0688e+03],\n",
       "        [-8.5712e+02, -2.1723e+02,  4.2546e+02],\n",
       "        [-4.6365e+01,  3.4127e+02, -1.4588e+03],\n",
       "        [-1.1645e+03, -1.2452e+03, -1.7896e+02],\n",
       "        [ 4.8216e+02, -2.5944e+03, -2.5750e+02],\n",
       "        [-5.5699e+02, -2.5641e+03, -1.2797e+03],\n",
       "        [ 2.0864e+03,  2.7227e+03,  1.4314e+02],\n",
       "        [-8.4539e+02,  4.3837e+02,  2.8853e+03],\n",
       "        [ 1.5342e+03,  7.7198e+01,  5.3966e+02],\n",
       "        [-6.6308e+02, -4.1201e+02, -4.8127e+02],\n",
       "        [ 1.7656e+02,  8.5935e+02,  1.0177e+03],\n",
       "        [ 6.4848e+02,  2.4778e+02, -9.3763e+02],\n",
       "        [-1.3097e+03,  9.3895e+02, -9.8545e+02],\n",
       "        [-1.0706e+03, -2.3082e+03, -9.0174e+02],\n",
       "        [ 1.9792e+03, -1.8473e+02,  2.3739e+03],\n",
       "        [-4.7043e+03,  1.1232e+03, -1.7177e+03],\n",
       "        [-3.9147e+02, -1.5176e+03, -1.0175e+03],\n",
       "        [-4.8369e+02, -1.2821e+03,  5.3188e+02],\n",
       "        [ 6.8198e+02,  1.3584e+03, -8.1638e+02],\n",
       "        [ 9.0471e+02,  6.9042e+02, -3.4497e+02],\n",
       "        [-6.8270e+00,  1.4242e+02, -6.1960e+02],\n",
       "        [ 3.7275e+02,  1.6530e+02,  1.6793e+03],\n",
       "        [ 1.6476e+03, -4.9532e+02, -6.9063e+01],\n",
       "        [ 5.0371e+02,  2.0729e+03,  2.6252e+02],\n",
       "        [-8.2201e+02, -1.8102e+03,  1.0459e+03],\n",
       "        [ 2.8567e+02, -3.0615e+03, -2.1350e+03],\n",
       "        [ 8.8250e+01, -1.8010e+02,  1.3398e+03],\n",
       "        [ 7.4231e+02, -9.3111e+01, -8.8443e+02],\n",
       "        [-9.0674e+02,  1.0163e+03, -1.4701e+03],\n",
       "        [-2.4489e+03,  6.1453e+01, -4.4791e+02],\n",
       "        [ 2.1929e+03,  3.2342e+03,  8.0007e+02],\n",
       "        [ 3.6477e+02, -1.2399e+03,  1.4890e+03]], device='cuda:0',\n",
       "       grad_fn=<AddBackward0>)"
      ]
     },
     "execution_count": 15,
     "metadata": {},
     "output_type": "execute_result"
    }
   ],
   "source": [
    "new_results[0]['energy_grad']"
   ]
  },
  {
   "cell_type": "code",
   "execution_count": 82,
   "id": "lesser-alexander",
   "metadata": {},
   "outputs": [],
   "source": [
    "from nff.utils.cuda import batch_to, batch_detach\n",
    "data = None\n",
    "for batch in train_loader:\n",
    "    data = batch_to(batch, DEVICE)\n",
    "    break"
   ]
  },
  {
   "cell_type": "code",
   "execution_count": 83,
   "id": "generic-review",
   "metadata": {},
   "outputs": [],
   "source": [
    "xyz, e_rbf, a_sbf, nbr_list, angle_list, num_atoms, z, kj_idx, ji_idx = model.get_prelims(data)\n",
    "\n",
    "\n",
    "EPS = 1e-15\n",
    "\n",
    "\n",
    "def norm(vec):\n",
    "    result = ((vec ** 2 + EPS).sum(-1)) ** 0.5\n",
    "    return result\n",
    "\n",
    "def xyz2adjoint(xyz):\n",
    "    ## angle adjoints\n",
    "    ### identity matrix\n",
    "    eye = torch.eye(3).unsqueeze(0).to(xyz)  # 1*3*3\n",
    "    ### points from j -> i\n",
    "    r_ji = xyz[angle_list[:, 0]] - xyz[angle_list[:, 1]]  # N_e*3\n",
    "    d_ji = norm(r_ji)[:, None, None]  # N_e*1*1\n",
    "    unit_ji = r_ji / d_ji.squeeze(-1)  # N_e*3\n",
    "    ### points from j -> k\n",
    "    r_jk = xyz[angle_list[:, 2]] - xyz[angle_list[:, 1]]  # N_e*3\n",
    "    d_jk = norm(r_jk)[:, None, None]  # N_e*1*1\n",
    "    unit_jk = r_jk / d_jk.squeeze(-1)  # N_e*3\n",
    "    ### adjoint_ji\n",
    "    kronecker_ji = r_ji.unsqueeze(-1) * r_ji.unsqueeze(-2)  # N_e*3*3\n",
    "    angle_adjoint_ji = torch.einsum('ijk,ij->ik', (-eye*d_ji + kronecker_ji/d_ji)/d_ji**2, unit_jk)\n",
    "    # angle_adjoint_ji = -1 / ((1-angle_adjoint_ji**2) + EPS) ** 0.5  #  N_angle*3\n",
    "    ### adjoint_jk\n",
    "    kronecker_jk = r_jk.unsqueeze(-1) * r_jk.unsqueeze(-2)  # N_e*3*3\n",
    "    angle_adjoint_jk = torch.einsum('ijk,ij->ik', (-eye*d_jk + kronecker_jk/d_jk)/d_jk**2, unit_ji)\n",
    "    # angle_adjoint_jk = -1 / ((1-angle_adjoint_jk**2) + EPS) ** 0.5  #  N_angle*3\n",
    "    \n",
    "    return angle_adjoint_ji, angle_adjoint_jk\n",
    "\n",
    "a = xyz2adjoint(xyz)\n",
    "b = xyz2adjoint(xyz@rotate)"
   ]
  },
  {
   "cell_type": "code",
   "execution_count": 84,
   "id": "injured-aruba",
   "metadata": {},
   "outputs": [
    {
     "data": {
      "text/plain": [
       "tensor([[-0.1572,  0.3815, -0.0041],\n",
       "        [ 0.3508, -0.0146,  0.0154],\n",
       "        [-0.1712, -0.2301, -0.0092],\n",
       "        ...,\n",
       "        [-0.2771, -0.0931, -0.1060],\n",
       "        [-0.2363, -0.2324, -0.0254],\n",
       "        [ 0.0182, -0.3153,  0.1435]], device='cuda:0')"
      ]
     },
     "execution_count": 84,
     "metadata": {},
     "output_type": "execute_result"
    }
   ],
   "source": [
    "a[0] @ rotate"
   ]
  },
  {
   "cell_type": "code",
   "execution_count": 85,
   "id": "christian-auditor",
   "metadata": {},
   "outputs": [
    {
     "data": {
      "text/plain": [
       "tensor([[-0.1572,  0.3815, -0.0041],\n",
       "        [ 0.3508, -0.0146,  0.0154],\n",
       "        [-0.1712, -0.2301, -0.0092],\n",
       "        ...,\n",
       "        [-0.2771, -0.0931, -0.1060],\n",
       "        [-0.2363, -0.2324, -0.0254],\n",
       "        [ 0.0182, -0.3153,  0.1435]], device='cuda:0')"
      ]
     },
     "execution_count": 85,
     "metadata": {},
     "output_type": "execute_result"
    }
   ],
   "source": [
    "b[0]"
   ]
  },
  {
   "cell_type": "code",
   "execution_count": null,
   "id": "thick-mechanism",
   "metadata": {},
   "outputs": [],
   "source": []
  }
 ],
 "metadata": {
  "kernelspec": {
   "display_name": "Python [conda env:nff]",
   "language": "python",
   "name": "nff"
  },
  "language_info": {
   "codemirror_mode": {
    "name": "ipython",
    "version": 3
   },
   "file_extension": ".py",
   "mimetype": "text/x-python",
   "name": "python",
   "nbconvert_exporter": "python",
   "pygments_lexer": "ipython3",
   "version": "3.7.10"
  }
 },
 "nbformat": 4,
 "nbformat_minor": 5
}
