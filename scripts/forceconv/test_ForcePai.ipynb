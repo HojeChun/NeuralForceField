{
 "cells": [
  {
   "cell_type": "code",
   "execution_count": 15,
   "id": "returning-franchise",
   "metadata": {},
   "outputs": [],
   "source": [
    "import sys\n",
    "from pathlib import Path\n",
    "\n",
    "# change to your NFF path\n",
    "sys.path.insert(0, \"..\")\n",
    "sys.path.insert(0, \"../..\")\n",
    "sys.path.insert(0, \"../../../\")\n",
    "\n",
    "import os\n",
    "import shutil\n",
    "import numpy as np\n",
    "import matplotlib.pyplot as plt\n",
    "import copy\n",
    "\n",
    "import torch\n",
    "from torch.optim import Adam\n",
    "from torch.utils.data import DataLoader\n",
    "from torch.utils.data.sampler import RandomSampler\n",
    "\n",
    "from nff.data import Dataset, split_train_validation_test, collate_dicts, to_tensor\n",
    "from nff.train import Trainer, get_trainer, get_model, load_model, loss, hooks, metrics, evaluate\n",
    "\n",
    "import argparse\n",
    "from sigopt import Connection\n",
    "\n",
    "from train import train\n",
    "from forceconv import *\n",
    "\n",
    "from MD17data import *\n",
    "\n",
    "from forcepai import ForcePai\n",
    "# from nff.nn.models import Painn"
   ]
  },
  {
   "cell_type": "code",
   "execution_count": 117,
   "id": "south-military",
   "metadata": {},
   "outputs": [],
   "source": [
    "parser = argparse.ArgumentParser()\n",
    "parser.add_argument(\"-logdir\", type=str, default='./output')\n",
    "parser.add_argument(\"-device\", type=int, default=0)\n",
    "parser.add_argument(\"-data\", type=str, default='ethanol_dft')\n",
    "params = vars(parser.parse_args([]))\n",
    "\n",
    "DEVICE = params['device']\n",
    "OUTDIR = '{}/{}/sandbox'.format(params['logdir'], 'test_ForcePai')\n",
    "\n",
    "BATCH_SIZE = 10\n",
    "lr = 5e-5\n",
    "n_epochs = 100"
   ]
  },
  {
   "cell_type": "code",
   "execution_count": 118,
   "id": "selected-affect",
   "metadata": {},
   "outputs": [],
   "source": [
    "data = get_MD17data(params['data'])\n",
    "dataset = pack_MD17data(data, 10000)"
   ]
  },
  {
   "cell_type": "code",
   "execution_count": 119,
   "id": "incorrect-commodity",
   "metadata": {},
   "outputs": [],
   "source": [
    "train, val, test = split_train_validation_test(dataset, val_size=0.05, test_size=0.85)\n",
    "train_loader = DataLoader(train, batch_size=BATCH_SIZE, collate_fn=collate_dicts)\n",
    "val_loader = DataLoader(val, batch_size=BATCH_SIZE, collate_fn=collate_dicts)\n",
    "test_loader = DataLoader(test, batch_size=BATCH_SIZE, collate_fn=collate_dicts)"
   ]
  },
  {
   "cell_type": "code",
   "execution_count": 120,
   "id": "better-miracle",
   "metadata": {},
   "outputs": [],
   "source": [
    "modelparams = {\"feat_dim\": 128,\n",
    "              \"activation\": \"swish\",\n",
    "              \"n_rbf\": 20,\n",
    "              \"cutoff\": 5.0,\n",
    "              \"num_conv\": 3,\n",
    "              \"output_keys\": [\"energy\"],\n",
    "              \"grad_keys\": [\"energy_grad\"],\n",
    "               # whether to sum outputs from all blocks in the model\n",
    "               # or just the final output block. False in the original\n",
    "               # implementation\n",
    "              \"skip_connection\": False,\n",
    "               # Whether the k parameters in the Bessel basis functions\n",
    "               # are learnable. False originally\n",
    "              \"learnable_k\": False,\n",
    "               # dropout rate in the convolution layers, originally 0\n",
    "               \"conv_dropout\": 0.0,\n",
    "               # dropout rate in the readout layers, originally 0\n",
    "               \"readout_dropout\": 0.0,\n",
    "               # dictionary of means to add to each output key\n",
    "               # (this is optional - if you don't supply it then\n",
    "               # nothing will be added)\n",
    "               # \"means\": {\"energy\": train.props['energy'].mean().item()},\n",
    "               # dictionary of standard devations with which to \n",
    "               # multiply each output key\n",
    "               # (this is optional - if you don't supply it then\n",
    "               # nothing will be multiplied)\n",
    "               # \"stddevs\": {\"energy\": train.props['energy'].std().item()}\n",
    "              }\n",
    "model = ForcePai(modelparams)\n",
    "# model = get_model(modelparams, model_type=\"Painn\")"
   ]
  },
  {
   "cell_type": "code",
   "execution_count": 121,
   "id": "social-invalid",
   "metadata": {},
   "outputs": [],
   "source": [
    "loss_fn = loss.build_mse_loss(loss_coef={'energy_grad': 1})\n",
    "trainable_params = filter(lambda p: p.requires_grad, model.parameters())\n",
    "optimizer = Adam(trainable_params, lr=lr)\n",
    "train_metrics = [\n",
    "        metrics.MeanAbsoluteError('energy_grad')\n",
    "    ]"
   ]
  },
  {
   "cell_type": "code",
   "execution_count": 122,
   "id": "important-summit",
   "metadata": {},
   "outputs": [],
   "source": [
    "train_hooks = [\n",
    "    hooks.MaxEpochHook(n_epochs),\n",
    "    hooks.CSVHook(\n",
    "        OUTDIR,\n",
    "        metrics=train_metrics,\n",
    "    ),\n",
    "    hooks.PrintingHook(\n",
    "        OUTDIR,\n",
    "        metrics=train_metrics,\n",
    "        separator = ' | ',\n",
    "        time_strf='%M:%S'\n",
    "    ),\n",
    "    hooks.ReduceLROnPlateauHook(\n",
    "        optimizer=optimizer,\n",
    "        patience=20,\n",
    "        factor=0.5,\n",
    "        min_lr=1e-7,\n",
    "        window_length=1,\n",
    "        stop_after_min=True\n",
    "    )\n",
    "]\n",
    "\n",
    "T = Trainer(\n",
    "    model_path=OUTDIR,\n",
    "    model=model,\n",
    "    loss_fn=loss_fn,\n",
    "    optimizer=optimizer,\n",
    "    train_loader=train_loader,\n",
    "    validation_loader=val_loader,\n",
    "    checkpoint_interval=1,\n",
    "    hooks=train_hooks,\n",
    "    mini_batches=1\n",
    ")"
   ]
  },
  {
   "cell_type": "code",
   "execution_count": 123,
   "id": "pointed-somalia",
   "metadata": {},
   "outputs": [
    {
     "name": "stdout",
     "output_type": "stream",
     "text": [
      " Time | Epoch | Learning rate | Train loss | Validation loss | MAE_energy_grad | GPU Memory (MB)\n"
     ]
    },
    {
     "name": "stderr",
     "output_type": "stream",
     "text": [
      " 99%|█████████▉| 99/100 [00:03<00:00, 27.15it/s]\n"
     ]
    },
    {
     "name": "stdout",
     "output_type": "stream",
     "text": [
      "13:29 |    60 |     2.500e-04 |     4.4643 |          4.5005 |          1.5495 |              84\n"
     ]
    },
    {
     "name": "stderr",
     "output_type": "stream",
     "text": [
      " 99%|█████████▉| 99/100 [00:03<00:00, 27.86it/s]\n"
     ]
    },
    {
     "name": "stdout",
     "output_type": "stream",
     "text": [
      "13:33 |    61 |     2.500e-04 |     3.6431 |          3.4060 |          1.3282 |              84\n"
     ]
    },
    {
     "name": "stderr",
     "output_type": "stream",
     "text": [
      " 99%|█████████▉| 99/100 [00:03<00:00, 27.10it/s]\n"
     ]
    },
    {
     "name": "stdout",
     "output_type": "stream",
     "text": [
      "13:37 |    62 |     2.500e-04 |     2.9711 |          3.2419 |          1.2899 |              84\n"
     ]
    },
    {
     "name": "stderr",
     "output_type": "stream",
     "text": [
      " 99%|█████████▉| 99/100 [00:03<00:00, 24.94it/s]\n"
     ]
    },
    {
     "name": "stdout",
     "output_type": "stream",
     "text": [
      "13:42 |    63 |     2.500e-04 |     2.6907 |          3.1126 |          1.2610 |              84\n"
     ]
    },
    {
     "name": "stderr",
     "output_type": "stream",
     "text": [
      " 99%|█████████▉| 99/100 [00:03<00:00, 26.48it/s]\n"
     ]
    },
    {
     "name": "stdout",
     "output_type": "stream",
     "text": [
      "13:46 |    64 |     2.500e-04 |     2.5263 |          3.0227 |          1.2423 |              84\n"
     ]
    },
    {
     "name": "stderr",
     "output_type": "stream",
     "text": [
      " 99%|█████████▉| 99/100 [00:03<00:00, 25.76it/s]\n"
     ]
    },
    {
     "name": "stdout",
     "output_type": "stream",
     "text": [
      "13:51 |    65 |     2.500e-04 |     2.4062 |          2.9415 |          1.2251 |              84\n"
     ]
    },
    {
     "name": "stderr",
     "output_type": "stream",
     "text": [
      " 99%|█████████▉| 99/100 [00:03<00:00, 25.45it/s]\n"
     ]
    },
    {
     "name": "stdout",
     "output_type": "stream",
     "text": [
      "13:55 |    66 |     2.500e-04 |     2.3076 |          2.8950 |          1.2173 |              84\n"
     ]
    },
    {
     "name": "stderr",
     "output_type": "stream",
     "text": [
      " 99%|█████████▉| 99/100 [00:03<00:00, 25.79it/s]\n"
     ]
    },
    {
     "name": "stdout",
     "output_type": "stream",
     "text": [
      "14:00 |    67 |     2.500e-04 |     2.2405 |          2.9140 |          1.2269 |              84\n"
     ]
    },
    {
     "name": "stderr",
     "output_type": "stream",
     "text": [
      " 99%|█████████▉| 99/100 [00:03<00:00, 25.74it/s]\n"
     ]
    },
    {
     "name": "stdout",
     "output_type": "stream",
     "text": [
      "14:05 |    68 |     2.500e-04 |     2.2295 |          3.1033 |          1.2786 |              84\n"
     ]
    },
    {
     "name": "stderr",
     "output_type": "stream",
     "text": [
      " 99%|█████████▉| 99/100 [00:03<00:00, 26.37it/s]\n"
     ]
    },
    {
     "name": "stdout",
     "output_type": "stream",
     "text": [
      "14:09 |    69 |     2.500e-04 |     2.3640 |          3.9409 |          1.4803 |              84\n"
     ]
    },
    {
     "name": "stderr",
     "output_type": "stream",
     "text": [
      " 99%|█████████▉| 99/100 [00:03<00:00, 26.99it/s]\n"
     ]
    },
    {
     "name": "stdout",
     "output_type": "stream",
     "text": [
      "14:13 |    70 |     2.500e-04 |     3.2332 |          5.9755 |          1.8608 |              84\n"
     ]
    },
    {
     "name": "stderr",
     "output_type": "stream",
     "text": [
      " 99%|█████████▉| 99/100 [00:03<00:00, 25.79it/s]\n"
     ]
    },
    {
     "name": "stdout",
     "output_type": "stream",
     "text": [
      "14:18 |    71 |     2.500e-04 |     7.5623 |          6.5980 |          1.9215 |              84\n"
     ]
    },
    {
     "name": "stderr",
     "output_type": "stream",
     "text": [
      " 99%|█████████▉| 99/100 [00:03<00:00, 25.53it/s]\n"
     ]
    },
    {
     "name": "stdout",
     "output_type": "stream",
     "text": [
      "14:22 |    72 |     2.500e-04 |     5.1846 |          3.7777 |          1.3956 |              84\n"
     ]
    },
    {
     "name": "stderr",
     "output_type": "stream",
     "text": [
      " 99%|█████████▉| 99/100 [00:03<00:00, 25.36it/s]\n"
     ]
    },
    {
     "name": "stdout",
     "output_type": "stream",
     "text": [
      "14:27 |    73 |     2.500e-04 |     3.4134 |          3.3627 |          1.3318 |              84\n"
     ]
    },
    {
     "name": "stderr",
     "output_type": "stream",
     "text": [
      " 99%|█████████▉| 99/100 [00:03<00:00, 28.31it/s]\n"
     ]
    },
    {
     "name": "stdout",
     "output_type": "stream",
     "text": [
      "14:31 |    74 |     2.500e-04 |     2.3825 |          3.2880 |          1.3239 |              84\n"
     ]
    },
    {
     "name": "stderr",
     "output_type": "stream",
     "text": [
      " 99%|█████████▉| 99/100 [00:03<00:00, 24.77it/s]\n"
     ]
    },
    {
     "name": "stdout",
     "output_type": "stream",
     "text": [
      "14:36 |    75 |     2.500e-04 |     1.9073 |          3.0375 |          1.2527 |              84\n"
     ]
    },
    {
     "name": "stderr",
     "output_type": "stream",
     "text": [
      " 99%|█████████▉| 99/100 [00:03<00:00, 25.30it/s]\n"
     ]
    },
    {
     "name": "stdout",
     "output_type": "stream",
     "text": [
      "14:41 |    76 |     2.500e-04 |     1.6644 |          2.9613 |          1.2303 |              84\n"
     ]
    },
    {
     "name": "stderr",
     "output_type": "stream",
     "text": [
      " 99%|█████████▉| 99/100 [00:03<00:00, 25.85it/s]\n"
     ]
    },
    {
     "name": "stdout",
     "output_type": "stream",
     "text": [
      "14:45 |    77 |     2.500e-04 |     1.5353 |          2.9039 |          1.2174 |              84\n"
     ]
    },
    {
     "name": "stderr",
     "output_type": "stream",
     "text": [
      " 99%|█████████▉| 99/100 [00:03<00:00, 24.89it/s]\n"
     ]
    },
    {
     "name": "stdout",
     "output_type": "stream",
     "text": [
      "14:50 |    78 |     2.500e-04 |     1.4385 |          2.8226 |          1.1975 |              84\n"
     ]
    },
    {
     "name": "stderr",
     "output_type": "stream",
     "text": [
      " 99%|█████████▉| 99/100 [00:03<00:00, 26.59it/s]\n"
     ]
    },
    {
     "name": "stdout",
     "output_type": "stream",
     "text": [
      "14:54 |    79 |     2.500e-04 |     1.3563 |          2.7541 |          1.1821 |              84\n"
     ]
    },
    {
     "name": "stderr",
     "output_type": "stream",
     "text": [
      " 99%|█████████▉| 99/100 [00:03<00:00, 26.45it/s]\n"
     ]
    },
    {
     "name": "stdout",
     "output_type": "stream",
     "text": [
      "14:59 |    80 |     2.500e-04 |     1.2800 |          2.6926 |          1.1687 |              84\n"
     ]
    },
    {
     "name": "stderr",
     "output_type": "stream",
     "text": [
      " 99%|█████████▉| 99/100 [00:03<00:00, 26.26it/s]\n"
     ]
    },
    {
     "name": "stdout",
     "output_type": "stream",
     "text": [
      "15:03 |    81 |     2.500e-04 |     1.2141 |          2.6391 |          1.1579 |              84\n"
     ]
    },
    {
     "name": "stderr",
     "output_type": "stream",
     "text": [
      " 99%|█████████▉| 99/100 [00:03<00:00, 25.42it/s]\n"
     ]
    },
    {
     "name": "stdout",
     "output_type": "stream",
     "text": [
      "15:08 |    82 |     2.500e-04 |     1.1572 |          2.6208 |          1.1549 |              84\n"
     ]
    },
    {
     "name": "stderr",
     "output_type": "stream",
     "text": [
      " 99%|█████████▉| 99/100 [00:03<00:00, 26.03it/s]\n"
     ]
    },
    {
     "name": "stdout",
     "output_type": "stream",
     "text": [
      "15:12 |    83 |     2.500e-04 |     1.1030 |          2.5753 |          1.1459 |              84\n"
     ]
    },
    {
     "name": "stderr",
     "output_type": "stream",
     "text": [
      " 99%|█████████▉| 99/100 [00:03<00:00, 27.59it/s]\n"
     ]
    },
    {
     "name": "stdout",
     "output_type": "stream",
     "text": [
      "15:16 |    84 |     2.500e-04 |     1.0663 |          2.5630 |          1.1425 |              84\n"
     ]
    },
    {
     "name": "stderr",
     "output_type": "stream",
     "text": [
      " 99%|█████████▉| 99/100 [00:03<00:00, 25.39it/s]\n"
     ]
    },
    {
     "name": "stdout",
     "output_type": "stream",
     "text": [
      "15:21 |    85 |     2.500e-04 |     1.0286 |          2.5024 |          1.1325 |              84\n"
     ]
    },
    {
     "name": "stderr",
     "output_type": "stream",
     "text": [
      " 99%|█████████▉| 99/100 [00:03<00:00, 26.39it/s]\n"
     ]
    },
    {
     "name": "stdout",
     "output_type": "stream",
     "text": [
      "15:26 |    86 |     2.500e-04 |     1.0029 |          2.4480 |          1.1181 |              84\n"
     ]
    },
    {
     "name": "stderr",
     "output_type": "stream",
     "text": [
      " 99%|█████████▉| 99/100 [00:03<00:00, 28.19it/s]\n"
     ]
    },
    {
     "name": "stdout",
     "output_type": "stream",
     "text": [
      "15:30 |    87 |     2.500e-04 |     0.9883 |          2.4431 |          1.1209 |              84\n"
     ]
    },
    {
     "name": "stderr",
     "output_type": "stream",
     "text": [
      " 99%|█████████▉| 99/100 [00:03<00:00, 28.06it/s]\n"
     ]
    },
    {
     "name": "stdout",
     "output_type": "stream",
     "text": [
      "15:34 |    88 |     2.500e-04 |     0.9849 |          2.5427 |          1.1425 |              84\n"
     ]
    },
    {
     "name": "stderr",
     "output_type": "stream",
     "text": [
      " 99%|█████████▉| 99/100 [00:03<00:00, 25.48it/s]\n"
     ]
    },
    {
     "name": "stdout",
     "output_type": "stream",
     "text": [
      "15:39 |    89 |     2.500e-04 |     1.5578 |          4.5274 |          1.5922 |              84\n"
     ]
    },
    {
     "name": "stderr",
     "output_type": "stream",
     "text": [
      " 99%|█████████▉| 99/100 [00:03<00:00, 25.01it/s]\n"
     ]
    },
    {
     "name": "stdout",
     "output_type": "stream",
     "text": [
      "15:43 |    90 |     2.500e-04 |     4.0969 |          5.5633 |          1.7046 |              84\n"
     ]
    },
    {
     "name": "stderr",
     "output_type": "stream",
     "text": [
      " 99%|█████████▉| 99/100 [00:03<00:00, 28.43it/s]\n"
     ]
    },
    {
     "name": "stdout",
     "output_type": "stream",
     "text": [
      "15:47 |    91 |     2.500e-04 |     4.2428 |          6.6479 |          1.8433 |              84\n"
     ]
    },
    {
     "name": "stderr",
     "output_type": "stream",
     "text": [
      " 99%|█████████▉| 99/100 [00:03<00:00, 25.24it/s]\n"
     ]
    },
    {
     "name": "stdout",
     "output_type": "stream",
     "text": [
      "15:52 |    92 |     2.500e-04 |     4.1550 |          6.0151 |          1.7855 |              84\n"
     ]
    },
    {
     "name": "stderr",
     "output_type": "stream",
     "text": [
      " 99%|█████████▉| 99/100 [00:03<00:00, 26.61it/s]\n"
     ]
    },
    {
     "name": "stdout",
     "output_type": "stream",
     "text": [
      "15:57 |    93 |     2.500e-04 |     4.1286 |          5.9931 |          1.7987 |              84\n"
     ]
    },
    {
     "name": "stderr",
     "output_type": "stream",
     "text": [
      " 99%|█████████▉| 99/100 [00:03<00:00, 28.23it/s]\n"
     ]
    },
    {
     "name": "stdout",
     "output_type": "stream",
     "text": [
      "16:01 |    94 |     2.500e-04 |     6.7207 |          6.3030 |          1.7940 |              84\n"
     ]
    },
    {
     "name": "stderr",
     "output_type": "stream",
     "text": [
      " 99%|█████████▉| 99/100 [00:03<00:00, 27.71it/s]\n"
     ]
    },
    {
     "name": "stdout",
     "output_type": "stream",
     "text": [
      "16:05 |    95 |     2.500e-04 |     5.8154 |          5.8586 |          1.7858 |              84\n"
     ]
    },
    {
     "name": "stderr",
     "output_type": "stream",
     "text": [
      " 99%|█████████▉| 99/100 [00:03<00:00, 27.97it/s]\n"
     ]
    },
    {
     "name": "stdout",
     "output_type": "stream",
     "text": [
      "16:09 |    96 |     2.500e-04 |     4.8477 |          5.0277 |          1.6213 |              84\n"
     ]
    },
    {
     "name": "stderr",
     "output_type": "stream",
     "text": [
      " 99%|█████████▉| 99/100 [00:03<00:00, 27.83it/s]\n"
     ]
    },
    {
     "name": "stdout",
     "output_type": "stream",
     "text": [
      "16:13 |    97 |     2.500e-04 |     4.0842 |          5.0864 |          1.6119 |              84\n"
     ]
    },
    {
     "name": "stderr",
     "output_type": "stream",
     "text": [
      " 99%|█████████▉| 99/100 [00:03<00:00, 27.28it/s]\n"
     ]
    },
    {
     "name": "stdout",
     "output_type": "stream",
     "text": [
      "16:18 |    98 |     2.500e-04 |     3.1197 |          4.1172 |          1.4617 |              84\n"
     ]
    },
    {
     "name": "stderr",
     "output_type": "stream",
     "text": [
      " 99%|█████████▉| 99/100 [00:03<00:00, 25.91it/s]\n"
     ]
    },
    {
     "name": "stdout",
     "output_type": "stream",
     "text": [
      "16:22 |    99 |     2.500e-04 |     2.5786 |          3.7600 |          1.4128 |              84\n"
     ]
    },
    {
     "name": "stderr",
     "output_type": "stream",
     "text": [
      " 99%|█████████▉| 99/100 [00:03<00:00, 25.95it/s]\n"
     ]
    },
    {
     "name": "stdout",
     "output_type": "stream",
     "text": [
      "16:27 |   100 |     2.500e-04 |     2.2764 |          3.5521 |          1.3814 |              84\n"
     ]
    }
   ],
   "source": [
    "T.train(device=DEVICE, n_epochs=100)"
   ]
  },
  {
   "cell_type": "code",
   "execution_count": 98,
   "id": "surgical-somerset",
   "metadata": {},
   "outputs": [],
   "source": [
    "from nff.utils.cuda import batch_to, batch_detach\n",
    "data = None\n",
    "for batch in train_loader:\n",
    "    data = batch_to(batch, DEVICE)\n",
    "    break"
   ]
  },
  {
   "cell_type": "code",
   "execution_count": 99,
   "id": "incomplete-discretion",
   "metadata": {},
   "outputs": [
    {
     "data": {
      "text/plain": [
       "tensor([[ 0.7071, -0.7071,  0.0000],\n",
       "        [ 0.7071,  0.7071,  0.0000],\n",
       "        [ 0.0000,  0.0000,  1.0000]], device='cuda:0')"
      ]
     },
     "execution_count": 99,
     "metadata": {},
     "output_type": "execute_result"
    }
   ],
   "source": [
    "rotate = torch.Tensor([[2**.5/2, -2**.5/2, 0],\n",
    "                       [2**.5/2, 2**.5/2, 0],\n",
    "                       [0, 0, 1]]).to(DEVICE)\n",
    "rotate"
   ]
  },
  {
   "cell_type": "code",
   "execution_count": 101,
   "id": "distributed-labor",
   "metadata": {},
   "outputs": [],
   "source": [
    "data['nxyz'][:, 1:4] @= rotate"
   ]
  },
  {
   "cell_type": "code",
   "execution_count": 100,
   "id": "associate-interim",
   "metadata": {},
   "outputs": [],
   "source": [
    "results = batch_to(batch_detach(model(data)), DEVICE)"
   ]
  },
  {
   "cell_type": "code",
   "execution_count": 102,
   "id": "alpha-oregon",
   "metadata": {},
   "outputs": [],
   "source": [
    "new_results = batch_to(batch_detach(model(data)), DEVICE)"
   ]
  },
  {
   "cell_type": "code",
   "execution_count": 116,
   "id": "automated-yacht",
   "metadata": {},
   "outputs": [
    {
     "data": {
      "text/plain": [
       "tensor(8.0715e-08, device='cuda:0')"
      ]
     },
     "execution_count": 116,
     "metadata": {},
     "output_type": "execute_result"
    }
   ],
   "source": [
    "(new_results['energy_grad'] - (results['energy_grad'] @ rotate)).mean()"
   ]
  },
  {
   "cell_type": "code",
   "execution_count": 14,
   "id": "entire-guatemala",
   "metadata": {},
   "outputs": [
    {
     "data": {
      "text/plain": [
       "tensor(indices=tensor([], size=(2, 0)),\n",
       "       values=tensor([], size=(0,)),\n",
       "       device='cuda:0', size=(360, 3), nnz=0, layout=torch.sparse_coo)"
      ]
     },
     "execution_count": 14,
     "metadata": {},
     "output_type": "execute_result"
    }
   ],
   "source": [
    "data[\"offsets\"]"
   ]
  },
  {
   "cell_type": "code",
   "execution_count": 112,
   "id": "tutorial-assumption",
   "metadata": {},
   "outputs": [
    {
     "data": {
      "text/plain": [
       "tensor([[ 6.0905e+01,  8.2145e+01, -5.9722e+01],\n",
       "        [-1.0316e+02, -7.6270e+01, -3.6269e+01],\n",
       "        [ 4.3973e+00,  3.2331e+01,  1.1046e+00],\n",
       "        [ 1.8292e+00, -1.9102e+01,  5.2263e+01],\n",
       "        [ 2.2242e+00, -3.6930e+01,  1.8547e+00],\n",
       "        [ 3.4263e+01, -1.2126e+01, -9.8536e+00],\n",
       "        [ 7.2883e+00,  1.7753e+01,  1.7333e+01],\n",
       "        [-3.4666e+00,  3.5572e+01,  2.3576e+01],\n",
       "        [-4.2809e+00, -2.3373e+01,  9.7131e+00],\n",
       "        [-1.8791e+01, -2.1784e+01,  6.1356e+00],\n",
       "        [ 3.9048e+01, -4.0592e+00, -8.6488e+00],\n",
       "        [-2.2611e+01, -1.2323e+01, -1.3219e+01],\n",
       "        [ 1.1123e+01, -5.8336e+00, -5.0618e+00],\n",
       "        [ 1.9847e+01,  9.6305e+00, -1.6908e+01],\n",
       "        [ 7.3554e+00, -3.6178e+00, -6.2092e-03],\n",
       "        [-2.1006e+01,  1.0869e+00, -3.1800e+00],\n",
       "        [-1.7629e+01,  3.1367e+01,  2.4362e+01],\n",
       "        [ 2.6630e+00,  5.5336e+00,  1.6526e+01],\n",
       "        [ 2.7739e+01, -1.7026e+01, -5.5337e+01],\n",
       "        [ 1.2627e+01, -3.8149e+01, -3.0607e+01],\n",
       "        [ 4.9671e+00, -6.2109e+00, -1.0307e+01],\n",
       "        [ 2.5746e+00,  1.5193e+01, -2.7694e+00],\n",
       "        [-1.6905e+01, -1.5999e+01,  2.8970e+01],\n",
       "        [-2.2455e+01,  3.0625e+01,  4.3149e+01],\n",
       "        [ 5.1191e+00,  2.2414e+00,  7.5965e-01],\n",
       "        [ 1.5244e+01, -1.4820e+00,  4.5654e-01],\n",
       "        [-2.8910e+01,  3.0808e+01,  2.5686e+01],\n",
       "        [ 5.6563e+01, -1.1923e+01,  1.0420e+01],\n",
       "        [ 2.8204e+01, -5.1452e+01,  1.2001e+01],\n",
       "        [-1.9551e+01,  3.0533e+01, -5.3519e+00],\n",
       "        [-7.9088e+00, -8.5181e+00, -4.5333e+00],\n",
       "        [ 1.8246e+00, -2.4253e+01,  3.2079e+00],\n",
       "        [-2.8423e+00,  5.1299e+00, -9.2652e+00],\n",
       "        [-4.9254e+01,  2.5504e+01,  2.1449e+01],\n",
       "        [ 7.2779e+00,  1.2052e+01, -2.5571e+01],\n",
       "        [-1.4313e+01,  2.2927e+01, -2.3562e+00],\n",
       "        [-2.1091e+01,  1.5505e+01,  4.1070e+01],\n",
       "        [ 1.8962e+01, -3.3028e+01, -6.3067e+01],\n",
       "        [ 1.8586e+01, -1.7815e+01, -6.1843e+01],\n",
       "        [ 2.9981e+01, -1.5727e+01,  5.7149e+00],\n",
       "        [ 4.4888e+00, -2.7433e+00, -4.5405e+00],\n",
       "        [-6.9452e+00, -1.6159e+01,  3.1227e+01],\n",
       "        [ 1.8159e+00,  1.8884e+01,  1.5005e+01],\n",
       "        [-4.1058e+01,  2.2291e+01,  1.0189e+01],\n",
       "        [-4.7390e+00,  2.8793e+01,  2.6243e+01],\n",
       "        [-1.1130e+01, -4.1419e+01, -2.6397e+01],\n",
       "        [ 4.6301e+01, -5.0565e+00,  3.5900e+01],\n",
       "        [-6.6011e-01, -2.7497e+00, -3.6863e+00],\n",
       "        [ 2.2066e+01,  2.7636e+01, -2.4436e+01],\n",
       "        [-3.5055e-01, -1.4913e+01,  1.2662e+01],\n",
       "        [-1.1070e+01,  1.3326e+01,  9.7373e+00],\n",
       "        [-1.5402e+01,  1.8341e+01, -7.9167e+00],\n",
       "        [-9.6585e+00,  4.9983e-01, -1.9897e+00],\n",
       "        [-2.0096e+01,  4.3359e+00,  6.1268e+00],\n",
       "        [ 5.5804e+01,  4.1505e+01, -1.5482e+01],\n",
       "        [-1.5645e+01, -2.5525e+01,  4.6057e+01],\n",
       "        [-4.4817e+01, -4.5578e+01,  4.0263e+01],\n",
       "        [-2.0679e+01, -2.0599e+01, -2.1652e+01],\n",
       "        [-1.5429e+01, -2.3745e+01,  8.4537e+00],\n",
       "        [ 1.1414e+01,  1.0215e+01,  1.1538e+01],\n",
       "        [ 1.1642e-01,  3.1382e+01, -2.4899e+01],\n",
       "        [ 1.6130e+01, -7.2097e+00, -2.1407e+01],\n",
       "        [ 1.3105e+01,  3.9554e+01, -2.2872e+01],\n",
       "        [ 3.0131e+01, -3.2195e+01, -5.6924e+01],\n",
       "        [ 1.0736e+00, -1.9088e+01,  4.8770e+01],\n",
       "        [-8.0193e+00,  1.1848e+01, -2.8654e+01],\n",
       "        [-1.8077e+01, -3.0555e+00,  1.9236e+01],\n",
       "        [-3.6543e+00,  3.3316e+01,  2.6206e+01],\n",
       "        [ 7.6059e-01,  1.4819e+00, -7.3405e+00],\n",
       "        [ 6.4088e+00, -1.9973e+01, -1.3139e+01],\n",
       "        [-3.4130e+00,  4.0912e+01, -3.6632e-01],\n",
       "        [-5.2108e+00, -1.3246e+01,  1.2212e+01],\n",
       "        [ 3.3755e+00,  3.4298e-02, -5.8202e+00],\n",
       "        [-7.4981e+01,  4.6329e+01,  1.3509e+01],\n",
       "        [ 1.6045e+01, -4.0811e+01,  4.0126e+01],\n",
       "        [ 2.5404e+01, -3.0489e+01,  3.1601e+00],\n",
       "        [-4.6739e+00,  1.4438e+01,  6.1110e+00],\n",
       "        [ 1.9684e+01, -4.0071e+01, -4.9457e+01],\n",
       "        [ 3.0188e+01,  4.3457e+00,  4.7888e+00],\n",
       "        [-6.1751e-01,  1.1129e+01,  2.1658e+01],\n",
       "        [-1.4423e+01,  3.5093e+01, -3.4077e+01],\n",
       "        [ 3.8521e+00, -2.8131e+00,  2.4030e-01],\n",
       "        [-1.7809e+01,  5.6263e+00, -5.2276e+00],\n",
       "        [ 2.2682e+00,  9.0598e+00,  9.8183e+00],\n",
       "        [ 6.0321e+00, -1.2112e+01, -1.1041e+01],\n",
       "        [-8.0762e-01, -9.3043e+00, -2.3162e+00],\n",
       "        [ 2.3308e+01, -1.0839e+01,  3.5584e+00],\n",
       "        [-3.2651e+00,  1.6402e+00,  1.3098e+01],\n",
       "        [ 3.9554e+00,  1.5672e+01, -3.1270e+00],\n",
       "        [-1.7534e+01,  3.0701e+00, -5.0036e+00]], device='cuda:0')"
      ]
     },
     "execution_count": 112,
     "metadata": {},
     "output_type": "execute_result"
    }
   ],
   "source": [
    "results['energy_grad'] @ rotate"
   ]
  },
  {
   "cell_type": "code",
   "execution_count": 19,
   "id": "weekly-validation",
   "metadata": {},
   "outputs": [
    {
     "data": {
      "text/plain": [
       "['energy']"
      ]
     },
     "execution_count": 19,
     "metadata": {},
     "output_type": "execute_result"
    }
   ],
   "source": [
    "model.output_keys"
   ]
  },
  {
   "cell_type": "code",
   "execution_count": null,
   "id": "applied-logging",
   "metadata": {},
   "outputs": [],
   "source": []
  }
 ],
 "metadata": {
  "kernelspec": {
   "display_name": "Python 3",
   "language": "python",
   "name": "python3"
  },
  "language_info": {
   "codemirror_mode": {
    "name": "ipython",
    "version": 3
   },
   "file_extension": ".py",
   "mimetype": "text/x-python",
   "name": "python",
   "nbconvert_exporter": "python",
   "pygments_lexer": "ipython3",
   "version": "3.7.10"
  }
 },
 "nbformat": 4,
 "nbformat_minor": 5
}
