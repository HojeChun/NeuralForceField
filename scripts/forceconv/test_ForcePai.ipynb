{
 "cells": [
  {
   "cell_type": "code",
   "execution_count": 1,
   "id": "returning-franchise",
   "metadata": {},
   "outputs": [],
   "source": [
    "import sys\n",
    "from pathlib import Path\n",
    "\n",
    "# change to your NFF path\n",
    "sys.path.insert(0, \"..\")\n",
    "sys.path.insert(0, \"../..\")\n",
    "sys.path.insert(0, \"../../../\")\n",
    "\n",
    "import os\n",
    "import shutil\n",
    "import numpy as np\n",
    "import matplotlib.pyplot as plt\n",
    "import copy\n",
    "\n",
    "import torch\n",
    "from torch.optim import Adam\n",
    "from torch.utils.data import DataLoader\n",
    "from torch.utils.data.sampler import RandomSampler\n",
    "\n",
    "from nff.data import Dataset, split_train_validation_test, collate_dicts, to_tensor\n",
    "from nff.train import Trainer, get_trainer, get_model, load_model, loss, hooks, metrics, evaluate\n",
    "\n",
    "import argparse\n",
    "from sigopt import Connection\n",
    "\n",
    "from train import train\n",
    "from forceconv import *\n",
    "\n",
    "from MD17data import *\n",
    "\n",
    "from forcepai import ForcePai\n",
    "# from nff.nn.models import Painn\n",
    "from forcedime import ForceDime"
   ]
  },
  {
   "cell_type": "code",
   "execution_count": 2,
   "id": "south-military",
   "metadata": {},
   "outputs": [],
   "source": [
    "parser = argparse.ArgumentParser()\n",
    "parser.add_argument(\"-logdir\", type=str, default='./output')\n",
    "parser.add_argument(\"-device\", type=int, default=0)\n",
    "parser.add_argument(\"-data\", type=str, default='ethanol_dft')\n",
    "params = vars(parser.parse_args([]))\n",
    "\n",
    "DEVICE = params['device']\n",
    "OUTDIR = '{}/{}/sandbox'.format(params['logdir'], 'test_ForcePai')\n",
    "\n",
    "BATCH_SIZE = 10\n",
    "lr = 1e-5\n",
    "n_epochs = 100"
   ]
  },
  {
   "cell_type": "code",
   "execution_count": 3,
   "id": "selected-affect",
   "metadata": {},
   "outputs": [
    {
     "name": "stderr",
     "output_type": "stream",
     "text": [
      "100%|██████████| 10000/10000 [00:33<00:00, 298.60it/s]\n"
     ]
    },
    {
     "name": "stdout",
     "output_type": "stream",
     "text": [
      "Adding kj and ji indices with 1 parallel processes\n"
     ]
    },
    {
     "name": "stderr",
     "output_type": "stream",
     "text": [
      "100%|██████████| 10000/10000 [00:03<00:00, 2595.14it/s]\n"
     ]
    }
   ],
   "source": [
    "data = get_MD17data(params['data'])\n",
    "dataset = pack_MD17data(data, 10000)\n",
    "dataset.generate_angle_list()\n",
    "dataset.generate_kj_ji()"
   ]
  },
  {
   "cell_type": "code",
   "execution_count": 4,
   "id": "incorrect-commodity",
   "metadata": {},
   "outputs": [],
   "source": [
    "train, val, test = split_train_validation_test(dataset, val_size=0.05, test_size=0.85)\n",
    "train_loader = DataLoader(train, batch_size=BATCH_SIZE, collate_fn=collate_dicts)\n",
    "val_loader = DataLoader(val, batch_size=BATCH_SIZE, collate_fn=collate_dicts)\n",
    "test_loader = DataLoader(test, batch_size=BATCH_SIZE, collate_fn=collate_dicts)"
   ]
  },
  {
   "cell_type": "code",
   "execution_count": 25,
   "id": "better-miracle",
   "metadata": {},
   "outputs": [],
   "source": [
    "# modelparams = {\"feat_dim\": 128,\n",
    "#               \"activation\": \"swish\",\n",
    "#               \"n_rbf\": 20,\n",
    "#               \"cutoff\": 5.0,\n",
    "#               \"num_conv\": 3,\n",
    "#               \"output_keys\": [\"energy\"],\n",
    "#               \"grad_keys\": [\"energy_grad\"],\n",
    "#                # whether to sum outputs from all blocks in the model\n",
    "#                # or just the final output block. False in the original\n",
    "#                # implementation\n",
    "#               \"skip_connection\": False,\n",
    "#                # Whether the k parameters in the Bessel basis functions\n",
    "#                # are learnable. False originally\n",
    "#               \"learnable_k\": False,\n",
    "#                # dropout rate in the convolution layers, originally 0\n",
    "#                \"conv_dropout\": 0.0,\n",
    "#                # dropout rate in the readout layers, originally 0\n",
    "#                \"readout_dropout\": 0.0,\n",
    "#                # dictionary of means to add to each output key\n",
    "#                # (this is optional - if you don't supply it then\n",
    "#                # nothing will be added)\n",
    "#                # \"means\": {\"energy\": train.props['energy'].mean().item()},\n",
    "#                # dictionary of standard devations with which to \n",
    "#                # multiply each output key\n",
    "#                # (this is optional - if you don't supply it then\n",
    "#                # nothing will be multiplied)\n",
    "#                # \"stddevs\": {\"energy\": train.props['energy'].std().item()}\n",
    "#               }\n",
    "# model = ForcePai(modelparams).to(DEVICE)\n",
    "import forcedime\n",
    "from forcedime import ForceDime\n",
    "import imp\n",
    "imp.reload(forcedime)\n",
    "from forcedime import ForceDime\n",
    "\n",
    "model = ForceDime(n_rbf=16, cutoff=5, \n",
    "                envelope_p=8, l_spher=6, \n",
    "                n_spher=6, embed_dim=128, \n",
    "                activation='ReLU', \n",
    "                n_bilinear=8, \n",
    "                n_convolutions=6).to(DEVICE)"
   ]
  },
  {
   "cell_type": "code",
   "execution_count": 6,
   "id": "social-invalid",
   "metadata": {},
   "outputs": [],
   "source": [
    "loss_fn = loss.build_mse_loss(loss_coef={'energy_grad': 1})\n",
    "trainable_params = filter(lambda p: p.requires_grad, model.parameters())\n",
    "optimizer = Adam(trainable_params, lr=lr)\n",
    "train_metrics = [\n",
    "        metrics.MeanAbsoluteError('energy_grad')\n",
    "    ]"
   ]
  },
  {
   "cell_type": "code",
   "execution_count": null,
   "id": "important-summit",
   "metadata": {},
   "outputs": [],
   "source": [
    "train_hooks = [\n",
    "    hooks.MaxEpochHook(n_epochs),\n",
    "    hooks.CSVHook(\n",
    "        OUTDIR,\n",
    "        metrics=train_metrics,\n",
    "    ),\n",
    "    hooks.PrintingHook(\n",
    "        OUTDIR,\n",
    "        metrics=train_metrics,\n",
    "        separator = ' | ',\n",
    "        time_strf='%M:%S'\n",
    "    ),\n",
    "    hooks.ReduceLROnPlateauHook(\n",
    "        optimizer=optimizer,\n",
    "        patience=20,\n",
    "        factor=0.5,\n",
    "        min_lr=1e-7,\n",
    "        window_length=1,\n",
    "        stop_after_min=True\n",
    "    )\n",
    "]\n",
    "\n",
    "T = Trainer(\n",
    "    model_path=OUTDIR,\n",
    "    model=model,\n",
    "    loss_fn=loss_fn,\n",
    "    optimizer=optimizer,\n",
    "    train_loader=train_loader,\n",
    "    validation_loader=val_loader,\n",
    "    checkpoint_interval=1,\n",
    "    hooks=train_hooks,\n",
    "    mini_batches=1\n",
    ")\n",
    "\n",
    "T.train(device=DEVICE, n_epochs=1000)"
   ]
  },
  {
   "cell_type": "code",
   "execution_count": 26,
   "id": "surgical-somerset",
   "metadata": {},
   "outputs": [],
   "source": [
    "from nff.utils.cuda import batch_to, batch_detach\n",
    "data = None\n",
    "for batch in train_loader:\n",
    "    data = batch_to(batch, DEVICE)\n",
    "    break"
   ]
  },
  {
   "cell_type": "code",
   "execution_count": 28,
   "id": "incomplete-discretion",
   "metadata": {},
   "outputs": [
    {
     "data": {
      "text/plain": [
       "tensor([[ 0.7071, -0.7071,  0.0000],\n",
       "        [ 0.7071,  0.7071,  0.0000],\n",
       "        [ 0.0000,  0.0000,  1.0000]], device='cuda:0')"
      ]
     },
     "execution_count": 28,
     "metadata": {},
     "output_type": "execute_result"
    }
   ],
   "source": [
    "rotate = torch.Tensor([[2**.5/2, -2**.5/2, 0],\n",
    "                       [2**.5/2, 2**.5/2, 0],\n",
    "                       [0, 0, 1]]).to(DEVICE)\n",
    "rotate"
   ]
  },
  {
   "cell_type": "code",
   "execution_count": 29,
   "id": "distributed-labor",
   "metadata": {},
   "outputs": [],
   "source": [
    "data['nxyz'][:, 1:4] @= rotate"
   ]
  },
  {
   "cell_type": "code",
   "execution_count": 27,
   "id": "associate-interim",
   "metadata": {},
   "outputs": [],
   "source": [
    "results = model(data)"
   ]
  },
  {
   "cell_type": "code",
   "execution_count": null,
   "id": "whole-census",
   "metadata": {},
   "outputs": [],
   "source": []
  },
  {
   "cell_type": "code",
   "execution_count": null,
   "id": "nominated-feedback",
   "metadata": {},
   "outputs": [],
   "source": []
  },
  {
   "cell_type": "code",
   "execution_count": 33,
   "id": "laden-assignment",
   "metadata": {},
   "outputs": [
    {
     "ename": "TypeError",
     "evalue": "unsupported operand type(s) for @: 'tuple' and 'Tensor'",
     "output_type": "error",
     "traceback": [
      "\u001b[0;31m---------------------------------------------------------------------------\u001b[0m",
      "\u001b[0;31mTypeError\u001b[0m                                 Traceback (most recent call last)",
      "\u001b[0;32m<ipython-input-33-43c064e01ffe>\u001b[0m in \u001b[0;36m<module>\u001b[0;34m\u001b[0m\n\u001b[0;32m----> 1\u001b[0;31m \u001b[0mresults\u001b[0m\u001b[0;34m[\u001b[0m\u001b[0;34m'energy_grad'\u001b[0m\u001b[0;34m]\u001b[0m \u001b[0;34m@\u001b[0m \u001b[0mrotate\u001b[0m\u001b[0;34m\u001b[0m\u001b[0;34m\u001b[0m\u001b[0m\n\u001b[0m",
      "\u001b[0;31mTypeError\u001b[0m: unsupported operand type(s) for @: 'tuple' and 'Tensor'"
     ]
    }
   ],
   "source": [
    "results['energy_grad'] @ rotate"
   ]
  },
  {
   "cell_type": "code",
   "execution_count": 30,
   "id": "alpha-oregon",
   "metadata": {},
   "outputs": [],
   "source": [
    "new_results = model(data)"
   ]
  },
  {
   "cell_type": "code",
   "execution_count": 32,
   "id": "entire-guatemala",
   "metadata": {},
   "outputs": [
    {
     "data": {
      "text/plain": [
       "(tensor([[ -6603.5654,  -6027.4688,  -5508.5781],\n",
       "         [   132.0137,   4804.1602,   3883.8398],\n",
       "         [ 10759.1895,   1612.1130,   -994.8289],\n",
       "         [   999.2732,   -465.6486,   3142.8071],\n",
       "         [  1292.4916,   1856.2207,   -689.0992],\n",
       "         [    27.6079,  -2409.8682,  -1047.2241],\n",
       "         [  -703.7966,  -1291.6934,    543.1215],\n",
       "         [  1168.2632,  -1709.3921,  -2322.3105],\n",
       "         [ -7071.4751,   3631.5801,   2992.2715],\n",
       "         [ -1238.7024,   1045.8694,  10597.9121],\n",
       "         [  3488.6963,   4393.5776,  -6726.2915],\n",
       "         [ -9911.0371,    193.6101,  -7228.7471],\n",
       "         [  4119.7354,  -1174.8623,    394.2627],\n",
       "         [  -330.2906,  -1434.1647,  -1536.7686],\n",
       "         [  1115.6827,   -996.5578,   -342.3359],\n",
       "         [ -3648.9915,  -3387.6926,   3532.8174],\n",
       "         [   409.4353,  -3144.1394,    884.9622],\n",
       "         [  5995.4702,   4504.3599,    424.1859],\n",
       "         [  3752.3875,    299.1789,  -6261.6274],\n",
       "         [ -2843.2598,   1068.6790,   5693.9785],\n",
       "         [ -4108.3169,  -5436.7861,  -7148.9414],\n",
       "         [  -764.0598,  -1076.3643,   1928.5417],\n",
       "         [   242.5600,   -918.0653,   1955.4724],\n",
       "         [  3082.7900,   -862.8361,    298.3264],\n",
       "         [  -967.5801,  -1051.3779,  -2704.4866],\n",
       "         [  1441.3796,   1402.3923,   -518.4758],\n",
       "         [   164.0990,   6575.1821,   6757.2104],\n",
       "         [  3440.2822,  -1492.6497,  -4766.9131],\n",
       "         [ -5191.2842,   1490.2952,   5226.0615],\n",
       "         [ 14287.8096,  -3673.5640,   3641.1401],\n",
       "         [ -4172.8936,  -1852.0947,    942.7197],\n",
       "         [ -1408.0841,    114.7923,   2710.8777],\n",
       "         [  2069.2327,    189.3713,   -767.9452],\n",
       "         [   696.2681,  -1629.8586,  -1517.1023],\n",
       "         [  -118.8116,   -632.3921,  -2414.2993],\n",
       "         [ -9602.5195,   7486.0986,  -3054.5356],\n",
       "         [ -1348.1665,  -3726.9146,    673.2256],\n",
       "         [   407.1024,   7114.4526,    935.0272],\n",
       "         [   789.1094,  -2411.0771,  -4636.8120],\n",
       "         [  1873.3715,   -112.6738,   1601.6309],\n",
       "         [  1740.6150,   1926.8967,   -105.7275],\n",
       "         [   361.1442,  -1457.9100,   -529.8715],\n",
       "         [  -525.5377,  -2274.6655,    682.4935],\n",
       "         [  -527.9221,  -1295.7419,  -1444.6964],\n",
       "         [ -2769.7129,   2237.6316,   2824.7271],\n",
       "         [  2372.4106,  -7182.7568,  -2796.4006],\n",
       "         [  3686.5513,   7490.3018,   -390.3145],\n",
       "         [-11653.7891,  -3554.9153,    423.0803],\n",
       "         [ -1008.9725,   2172.5725,   3866.0398],\n",
       "         [  1365.3027,   1357.7158,   2026.2395],\n",
       "         [   423.1282,  -1204.9385,    802.9851],\n",
       "         [ -3857.1514,   -783.3232,   -141.1845],\n",
       "         [  1113.6963,  -3509.5410,    189.9301],\n",
       "         [  7558.8252,   5214.8906,  -3980.3760],\n",
       "         [  1059.8792,  -3209.0564,   3050.9380],\n",
       "         [  1621.7998,   3580.2295,  -4159.3823],\n",
       "         [-14837.1562,  -1289.7054,  -1051.8562],\n",
       "         [  1690.0159,   1070.5841,   1097.8923],\n",
       "         [   252.1926,    679.2484,   1834.4409],\n",
       "         [  -130.9308,  -1649.6460,   1356.0790],\n",
       "         [  -950.8273,    -40.2791,    374.3125],\n",
       "         [   753.4121,    782.3101,   1322.9120],\n",
       "         [ 10541.6152,     76.3127,  -3825.3379],\n",
       "         [  2381.9795,   2996.3938,  -2852.3010],\n",
       "         [ -1026.7573,   -414.5527,   6968.1870],\n",
       "         [ -5150.0605,  -7096.2852,  -8841.9072],\n",
       "         [  -575.2249,   -836.3153,   2552.6909],\n",
       "         [  2784.6504,  -1590.3870,   2594.6562],\n",
       "         [  -581.5354,   1436.6047,  -3711.4109],\n",
       "         [   590.6946,  -1117.5159,   -333.7489],\n",
       "         [  1070.0718,  -1227.5576,  -1843.5791],\n",
       "         [   506.1817,   7849.6152,   5467.4141],\n",
       "         [ -8176.4502,   1170.3987,  -9407.3535],\n",
       "         [ 12248.1318,   1855.7236,   4901.5972],\n",
       "         [  2375.3730,   -433.3125,  10294.4434],\n",
       "         [ -1807.5531,  -2178.2905,   3073.2742],\n",
       "         [  3471.8850,    400.2260,   -608.6509],\n",
       "         [ -2608.9019,  -1582.7277,  -1878.5891],\n",
       "         [ -2188.9331,  -2118.0056,  -1459.0444],\n",
       "         [ -4672.5435,   -804.8179,     62.4331],\n",
       "         [  1358.9910,   3690.8032,  -4978.1108],\n",
       "         [ -4856.4517,   2282.4202,   3071.3125],\n",
       "         [  4457.8809,   1874.2891,  -1279.3774],\n",
       "         [   535.5698,  -8974.5156,   9328.8848],\n",
       "         [  2402.2170,  -1109.1361,  -2492.7432],\n",
       "         [  -416.2411,  -1087.3220,  -3018.1677],\n",
       "         [   834.1089,   -697.0213,    706.0947],\n",
       "         [ -1689.7749,   -832.3134,     38.7961],\n",
       "         [ -2301.2339,  -1023.2709,   -458.4783],\n",
       "         [  1033.9233,   9566.8711,  -5896.3252]], device='cuda:0'),)"
      ]
     },
     "execution_count": 32,
     "metadata": {},
     "output_type": "execute_result"
    }
   ],
   "source": [
    "new_results['energy_grad']"
   ]
  },
  {
   "cell_type": "code",
   "execution_count": 82,
   "id": "lesser-alexander",
   "metadata": {},
   "outputs": [],
   "source": [
    "from nff.utils.cuda import batch_to, batch_detach\n",
    "data = None\n",
    "for batch in train_loader:\n",
    "    data = batch_to(batch, DEVICE)\n",
    "    break"
   ]
  },
  {
   "cell_type": "code",
   "execution_count": 83,
   "id": "generic-review",
   "metadata": {},
   "outputs": [],
   "source": [
    "xyz, e_rbf, a_sbf, nbr_list, angle_list, num_atoms, z, kj_idx, ji_idx = model.get_prelims(data)\n",
    "\n",
    "\n",
    "EPS = 1e-15\n",
    "\n",
    "\n",
    "def norm(vec):\n",
    "    result = ((vec ** 2 + EPS).sum(-1)) ** 0.5\n",
    "    return result\n",
    "\n",
    "def xyz2adjoint(xyz):\n",
    "    ## angle adjoints\n",
    "    ### identity matrix\n",
    "    eye = torch.eye(3).unsqueeze(0).to(xyz)  # 1*3*3\n",
    "    ### points from j -> i\n",
    "    r_ji = xyz[angle_list[:, 0]] - xyz[angle_list[:, 1]]  # N_e*3\n",
    "    d_ji = norm(r_ji)[:, None, None]  # N_e*1*1\n",
    "    unit_ji = r_ji / d_ji.squeeze(-1)  # N_e*3\n",
    "    ### points from j -> k\n",
    "    r_jk = xyz[angle_list[:, 2]] - xyz[angle_list[:, 1]]  # N_e*3\n",
    "    d_jk = norm(r_jk)[:, None, None]  # N_e*1*1\n",
    "    unit_jk = r_jk / d_jk.squeeze(-1)  # N_e*3\n",
    "    ### adjoint_ji\n",
    "    kronecker_ji = r_ji.unsqueeze(-1) * r_ji.unsqueeze(-2)  # N_e*3*3\n",
    "    angle_adjoint_ji = torch.einsum('ijk,ij->ik', (-eye*d_ji + kronecker_ji/d_ji)/d_ji**2, unit_jk)\n",
    "    # angle_adjoint_ji = -1 / ((1-angle_adjoint_ji**2) + EPS) ** 0.5  #  N_angle*3\n",
    "    ### adjoint_jk\n",
    "    kronecker_jk = r_jk.unsqueeze(-1) * r_jk.unsqueeze(-2)  # N_e*3*3\n",
    "    angle_adjoint_jk = torch.einsum('ijk,ij->ik', (-eye*d_jk + kronecker_jk/d_jk)/d_jk**2, unit_ji)\n",
    "    # angle_adjoint_jk = -1 / ((1-angle_adjoint_jk**2) + EPS) ** 0.5  #  N_angle*3\n",
    "    \n",
    "    return angle_adjoint_ji, angle_adjoint_jk\n",
    "\n",
    "a = xyz2adjoint(xyz)\n",
    "b = xyz2adjoint(xyz@rotate)"
   ]
  },
  {
   "cell_type": "code",
   "execution_count": 84,
   "id": "injured-aruba",
   "metadata": {},
   "outputs": [
    {
     "data": {
      "text/plain": [
       "tensor([[-0.1572,  0.3815, -0.0041],\n",
       "        [ 0.3508, -0.0146,  0.0154],\n",
       "        [-0.1712, -0.2301, -0.0092],\n",
       "        ...,\n",
       "        [-0.2771, -0.0931, -0.1060],\n",
       "        [-0.2363, -0.2324, -0.0254],\n",
       "        [ 0.0182, -0.3153,  0.1435]], device='cuda:0')"
      ]
     },
     "execution_count": 84,
     "metadata": {},
     "output_type": "execute_result"
    }
   ],
   "source": [
    "a[0] @ rotate"
   ]
  },
  {
   "cell_type": "code",
   "execution_count": 85,
   "id": "christian-auditor",
   "metadata": {},
   "outputs": [
    {
     "data": {
      "text/plain": [
       "tensor([[-0.1572,  0.3815, -0.0041],\n",
       "        [ 0.3508, -0.0146,  0.0154],\n",
       "        [-0.1712, -0.2301, -0.0092],\n",
       "        ...,\n",
       "        [-0.2771, -0.0931, -0.1060],\n",
       "        [-0.2363, -0.2324, -0.0254],\n",
       "        [ 0.0182, -0.3153,  0.1435]], device='cuda:0')"
      ]
     },
     "execution_count": 85,
     "metadata": {},
     "output_type": "execute_result"
    }
   ],
   "source": [
    "b[0]"
   ]
  },
  {
   "cell_type": "code",
   "execution_count": null,
   "id": "thick-mechanism",
   "metadata": {},
   "outputs": [],
   "source": []
  }
 ],
 "metadata": {
  "kernelspec": {
   "display_name": "Python [conda env:nff]",
   "language": "python",
   "name": "nff"
  },
  "language_info": {
   "codemirror_mode": {
    "name": "ipython",
    "version": 3
   },
   "file_extension": ".py",
   "mimetype": "text/x-python",
   "name": "python",
   "nbconvert_exporter": "python",
   "pygments_lexer": "ipython3",
   "version": "3.7.10"
  }
 },
 "nbformat": 4,
 "nbformat_minor": 5
}
