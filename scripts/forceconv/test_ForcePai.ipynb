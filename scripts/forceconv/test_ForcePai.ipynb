{
 "cells": [
  {
   "cell_type": "code",
   "execution_count": 1,
   "id": "returning-franchise",
   "metadata": {},
   "outputs": [],
   "source": [
    "import sys\n",
    "from pathlib import Path\n",
    "\n",
    "# change to your NFF path\n",
    "sys.path.insert(0, \"..\")\n",
    "sys.path.insert(0, \"../..\")\n",
    "sys.path.insert(0, \"../../../\")\n",
    "\n",
    "import os\n",
    "import shutil\n",
    "import numpy as np\n",
    "import matplotlib.pyplot as plt\n",
    "import copy\n",
    "\n",
    "import torch\n",
    "from torch.optim import Adam\n",
    "from torch.utils.data import DataLoader\n",
    "from torch.utils.data.sampler import RandomSampler\n",
    "\n",
    "from nff.data import Dataset, split_train_validation_test, collate_dicts, to_tensor\n",
    "from nff.train import Trainer, get_trainer, get_model, load_model, loss, hooks, metrics, evaluate\n",
    "\n",
    "import argparse\n",
    "from sigopt import Connection\n",
    "\n",
    "from train import train\n",
    "from forceconv import *\n",
    "\n",
    "from MD17data import *\n",
    "\n",
    "from forcepai import ForcePai\n",
    "# from nff.nn.models import Painn\n",
    "from forcedime import ForceDime"
   ]
  },
  {
   "cell_type": "code",
   "execution_count": 2,
   "id": "south-military",
   "metadata": {},
   "outputs": [],
   "source": [
    "parser = argparse.ArgumentParser()\n",
    "parser.add_argument(\"-logdir\", type=str, default='./output')\n",
    "parser.add_argument(\"-device\", type=int, default=0)\n",
    "parser.add_argument(\"-data\", type=str, default='ethanol_dft')\n",
    "params = vars(parser.parse_args([]))\n",
    "\n",
    "DEVICE = params['device']\n",
    "OUTDIR = '{}/{}/sandbox'.format(params['logdir'], 'test_ForcePai')\n",
    "\n",
    "BATCH_SIZE = 10\n",
    "lr = 1e-5\n",
    "n_epochs = 100"
   ]
  },
  {
   "cell_type": "code",
   "execution_count": 3,
   "id": "selected-affect",
   "metadata": {},
   "outputs": [
    {
     "name": "stderr",
     "output_type": "stream",
     "text": [
      "100%|██████████| 10000/10000 [00:31<00:00, 316.11it/s]\n"
     ]
    },
    {
     "name": "stdout",
     "output_type": "stream",
     "text": [
      "Adding kj and ji indices with 1 parallel processes\n"
     ]
    },
    {
     "name": "stderr",
     "output_type": "stream",
     "text": [
      "100%|██████████| 10000/10000 [00:03<00:00, 2741.51it/s]\n"
     ]
    }
   ],
   "source": [
    "data = get_MD17data(params['data'])\n",
    "dataset = pack_MD17data(data, 10000)\n",
    "dataset.generate_angle_list()\n",
    "dataset.generate_kj_ji()"
   ]
  },
  {
   "cell_type": "code",
   "execution_count": 4,
   "id": "incorrect-commodity",
   "metadata": {},
   "outputs": [],
   "source": [
    "train, val, test = split_train_validation_test(dataset, val_size=0.05, test_size=0.85)\n",
    "train_loader = DataLoader(train, batch_size=BATCH_SIZE, collate_fn=collate_dicts)\n",
    "val_loader = DataLoader(val, batch_size=BATCH_SIZE, collate_fn=collate_dicts)\n",
    "test_loader = DataLoader(test, batch_size=BATCH_SIZE, collate_fn=collate_dicts)"
   ]
  },
  {
   "cell_type": "code",
   "execution_count": 5,
   "id": "better-miracle",
   "metadata": {},
   "outputs": [],
   "source": [
    "# modelparams = {\"feat_dim\": 128,\n",
    "#               \"activation\": \"swish\",\n",
    "#               \"n_rbf\": 20,\n",
    "#               \"cutoff\": 5.0,\n",
    "#               \"num_conv\": 3,\n",
    "#               \"output_keys\": [\"energy\"],\n",
    "#               \"grad_keys\": [\"energy_grad\"],\n",
    "#                # whether to sum outputs from all blocks in the model\n",
    "#                # or just the final output block. False in the original\n",
    "#                # implementation\n",
    "#               \"skip_connection\": False,\n",
    "#                # Whether the k parameters in the Bessel basis functions\n",
    "#                # are learnable. False originally\n",
    "#               \"learnable_k\": False,\n",
    "#                # dropout rate in the convolution layers, originally 0\n",
    "#                \"conv_dropout\": 0.0,\n",
    "#                # dropout rate in the readout layers, originally 0\n",
    "#                \"readout_dropout\": 0.0,\n",
    "#                # dictionary of means to add to each output key\n",
    "#                # (this is optional - if you don't supply it then\n",
    "#                # nothing will be added)\n",
    "#                # \"means\": {\"energy\": train.props['energy'].mean().item()},\n",
    "#                # dictionary of standard devations with which to \n",
    "#                # multiply each output key\n",
    "#                # (this is optional - if you don't supply it then\n",
    "#                # nothing will be multiplied)\n",
    "#                # \"stddevs\": {\"energy\": train.props['energy'].std().item()}\n",
    "#               }\n",
    "# model = ForcePai(modelparams).to(DEVICE)\n",
    "model = ForceDime(n_rbf=16, cutoff=5, \n",
    "                envelope_p=8, l_spher=6, \n",
    "                n_spher=6, embed_dim=128, \n",
    "                activation='ReLU', \n",
    "                n_bilinear=8, \n",
    "                n_convolutions=6).to(DEVICE)"
   ]
  },
  {
   "cell_type": "code",
   "execution_count": 6,
   "id": "social-invalid",
   "metadata": {},
   "outputs": [],
   "source": [
    "loss_fn = loss.build_mse_loss(loss_coef={'energy_grad': 1})\n",
    "trainable_params = filter(lambda p: p.requires_grad, model.parameters())\n",
    "optimizer = Adam(trainable_params, lr=lr)\n",
    "train_metrics = [\n",
    "        metrics.MeanAbsoluteError('energy_grad')\n",
    "    ]"
   ]
  },
  {
   "cell_type": "code",
   "execution_count": null,
   "id": "important-summit",
   "metadata": {},
   "outputs": [],
   "source": [
    "train_hooks = [\n",
    "    hooks.MaxEpochHook(n_epochs),\n",
    "    hooks.CSVHook(\n",
    "        OUTDIR,\n",
    "        metrics=train_metrics,\n",
    "    ),\n",
    "    hooks.PrintingHook(\n",
    "        OUTDIR,\n",
    "        metrics=train_metrics,\n",
    "        separator = ' | ',\n",
    "        time_strf='%M:%S'\n",
    "    ),\n",
    "    hooks.ReduceLROnPlateauHook(\n",
    "        optimizer=optimizer,\n",
    "        patience=20,\n",
    "        factor=0.5,\n",
    "        min_lr=1e-7,\n",
    "        window_length=1,\n",
    "        stop_after_min=True\n",
    "    )\n",
    "]\n",
    "\n",
    "T = Trainer(\n",
    "    model_path=OUTDIR,\n",
    "    model=model,\n",
    "    loss_fn=loss_fn,\n",
    "    optimizer=optimizer,\n",
    "    train_loader=train_loader,\n",
    "    validation_loader=val_loader,\n",
    "    checkpoint_interval=1,\n",
    "    hooks=train_hooks,\n",
    "    mini_batches=1\n",
    ")\n",
    "\n",
    "T.train(device=DEVICE, n_epochs=1000)"
   ]
  },
  {
   "cell_type": "code",
   "execution_count": 6,
   "id": "surgical-somerset",
   "metadata": {},
   "outputs": [],
   "source": [
    "from nff.utils.cuda import batch_to, batch_detach\n",
    "data = None\n",
    "for batch in train_loader:\n",
    "    data = batch_to(batch, DEVICE)\n",
    "    break"
   ]
  },
  {
   "cell_type": "code",
   "execution_count": 7,
   "id": "incomplete-discretion",
   "metadata": {},
   "outputs": [
    {
     "data": {
      "text/plain": [
       "tensor([[ 0.7071, -0.7071,  0.0000],\n",
       "        [ 0.7071,  0.7071,  0.0000],\n",
       "        [ 0.0000,  0.0000,  1.0000]], device='cuda:0')"
      ]
     },
     "execution_count": 7,
     "metadata": {},
     "output_type": "execute_result"
    }
   ],
   "source": [
    "rotate = torch.Tensor([[2**.5/2, -2**.5/2, 0],\n",
    "                       [2**.5/2, 2**.5/2, 0],\n",
    "                       [0, 0, 1]]).to(DEVICE)\n",
    "rotate"
   ]
  },
  {
   "cell_type": "code",
   "execution_count": 10,
   "id": "distributed-labor",
   "metadata": {},
   "outputs": [],
   "source": [
    "data['nxyz'][:, 1:4] @= rotate"
   ]
  },
  {
   "cell_type": "code",
   "execution_count": 8,
   "id": "associate-interim",
   "metadata": {},
   "outputs": [],
   "source": [
    "results = model(data)"
   ]
  },
  {
   "cell_type": "code",
   "execution_count": 14,
   "id": "laden-assignment",
   "metadata": {},
   "outputs": [
    {
     "data": {
      "text/plain": [
       "tensor([[ 2.4089e+03,  3.0791e+03,  1.4598e+03],\n",
       "        [-2.3518e+03,  2.8206e+02, -4.4779e+03],\n",
       "        [-1.1090e+02, -4.7694e+03,  1.5016e+03],\n",
       "        [ 1.9310e+03,  1.5531e+02, -1.0136e+02],\n",
       "        [-1.8984e+03,  1.6706e+03,  7.3232e+02],\n",
       "        [ 1.4531e+03,  1.1911e+03,  7.2989e+02],\n",
       "        [ 1.5092e+03, -1.2851e+03, -9.3721e+02],\n",
       "        [-2.2094e+03, -6.2140e+02,  1.5650e+03],\n",
       "        [-7.3174e+02,  2.9770e+02, -4.7213e+02],\n",
       "        [-2.0865e+03, -6.4635e+02, -2.4769e+03],\n",
       "        [ 2.9930e+02,  3.2812e+03,  2.7352e+03],\n",
       "        [ 2.3394e+03, -3.1117e+03,  1.7292e+02],\n",
       "        [-1.1095e+03, -1.0708e+03,  1.8805e+03],\n",
       "        [ 9.8922e+02,  1.0066e+03, -9.4703e+02],\n",
       "        [-1.2877e+03, -2.5153e+02, -7.2854e+02],\n",
       "        [ 7.5023e+02, -9.5565e+02,  1.5086e+03],\n",
       "        [ 8.6068e+02,  5.7083e+02, -1.4099e+03],\n",
       "        [-7.5514e+02,  1.1775e+03, -7.3489e+02],\n",
       "        [-2.8446e+03, -5.9177e+01,  2.6900e+02],\n",
       "        [ 2.0062e+03,  2.7296e+03,  1.4062e+03],\n",
       "        [ 1.5942e+03, -1.9817e+03, -9.3824e+02],\n",
       "        [ 1.1334e+03, -2.3170e+02,  1.5673e+03],\n",
       "        [ 6.0078e+02,  8.0743e+02, -1.6506e+03],\n",
       "        [-1.2445e+03, -5.7411e+02, -2.8470e+02],\n",
       "        [-1.3504e+02, -1.3784e+03,  1.1577e+03],\n",
       "        [-4.2738e+02,  2.4223e+02, -2.0218e+03],\n",
       "        [-6.8312e+02,  4.4575e+02,  4.9502e+02],\n",
       "        [ 3.4252e+02, -2.9980e+03,  2.3803e+03],\n",
       "        [-4.0232e+02,  2.7069e+03, -1.2891e+03],\n",
       "        [ 3.0521e+03, -2.0774e+03, -6.7716e+02],\n",
       "        [ 1.4188e+03,  4.1196e+02,  1.6655e+03],\n",
       "        [-4.2683e+03, -5.4253e+02, -5.4391e+02],\n",
       "        [-3.4411e+03,  1.6389e+03, -1.2061e+03],\n",
       "        [ 8.4953e+02, -2.2036e+02,  2.2488e+03],\n",
       "        [ 3.1250e+03,  5.6391e+02, -1.1723e+03],\n",
       "        [-6.7618e+02,  5.1662e+02, -1.4060e+03],\n",
       "        [-2.3800e+01, -3.1395e+03,  2.7626e+02],\n",
       "        [ 1.5550e+03,  2.4432e+03, -1.4327e+03],\n",
       "        [ 3.7717e+02, -7.2998e+01,  1.0816e+03],\n",
       "        [-1.6252e+03,  8.4147e+02,  1.7944e+03],\n",
       "        [ 8.1618e+02, -2.1997e+02, -1.3330e+03],\n",
       "        [ 5.4630e+02, -1.0434e+03, -8.4869e+02],\n",
       "        [-4.7441e+02,  2.4154e+02, -1.3047e+03],\n",
       "        [-1.1667e+03, -2.2528e+02,  2.0225e+03],\n",
       "        [-4.4879e+00,  1.1749e+03, -2.5564e+02],\n",
       "        [-8.1208e+02,  6.8229e+02,  1.4990e+03],\n",
       "        [ 1.2178e+03,  3.3268e+03, -3.1405e+03],\n",
       "        [-1.8250e+02, -3.5827e+03,  7.9501e+02],\n",
       "        [ 2.2208e+03,  6.1974e+01,  2.1802e+03],\n",
       "        [-2.3748e+03,  1.8491e+02, -6.7343e+02],\n",
       "        [-2.0535e+03,  1.2826e+03, -8.7333e+02],\n",
       "        [ 2.4285e+03,  3.5783e+02,  1.4355e+03],\n",
       "        [ 7.1653e+02, -2.7680e+03, -8.8084e+02],\n",
       "        [-1.1608e+03,  4.5427e+02, -3.4165e+02],\n",
       "        [-8.3085e+02, -1.2794e+03, -1.5399e+03],\n",
       "        [-2.1151e+03,  1.5220e+03, -6.2885e+02],\n",
       "        [ 2.4374e+03,  6.5039e+02,  2.1066e+03],\n",
       "        [-4.3236e+02, -2.4706e+03,  1.5512e+03],\n",
       "        [ 2.5595e+03,  3.2218e+02, -1.6711e+03],\n",
       "        [ 1.2526e+03,  3.2042e+03,  1.9429e+03],\n",
       "        [ 9.1491e+02, -5.2040e+02, -2.4396e+03],\n",
       "        [-3.3559e+03, -5.0812e+02, -1.4178e+02],\n",
       "        [-4.3016e+02, -9.2021e+02,  8.2065e+02],\n",
       "        [-6.5600e+02,  6.1075e+02, -1.7618e+03],\n",
       "        [ 2.3065e+03,  1.7512e+03,  2.2883e+03],\n",
       "        [-3.8830e+02, -4.6520e+02,  2.3199e+03],\n",
       "        [-2.0805e+02,  9.4752e+02, -1.1459e+02],\n",
       "        [ 8.2933e+02, -1.1432e+03, -4.3695e+02],\n",
       "        [-4.5518e+02, -3.1685e+03,  3.0252e+02],\n",
       "        [-4.5405e+02,  8.7075e+02, -2.6575e+03],\n",
       "        [-1.5756e+03,  5.5189e+02,  1.9325e+03],\n",
       "        [ 6.0135e+02,  4.4831e+01, -1.8724e+03],\n",
       "        [ 3.6656e+03,  7.6588e+01,  1.4759e+03],\n",
       "        [-3.4387e+03,  4.0626e+02, -2.0442e+03],\n",
       "        [-9.5187e+02, -2.8558e+03, -4.9553e+02],\n",
       "        [ 4.8196e+02,  8.2408e+02, -1.0084e+03],\n",
       "        [-1.2584e+02,  7.0402e+02,  1.6196e+03],\n",
       "        [-1.0683e+03, -2.5925e+02,  1.6109e+03],\n",
       "        [ 7.9988e+02,  1.6055e+03,  1.3821e+03],\n",
       "        [ 6.4163e+02, -1.1255e+03, -2.3039e+03],\n",
       "        [-4.4305e+00,  6.2409e+02, -2.3642e+02],\n",
       "        [-2.0695e+03,  2.5135e+03,  2.6072e+03],\n",
       "        [ 1.3183e+03,  1.4855e+03,  3.6233e+02],\n",
       "        [-2.8354e+02, -2.2668e+03,  7.4332e+01],\n",
       "        [ 1.7349e+03, -1.2383e+03,  8.9176e+02],\n",
       "        [-3.6387e+02,  1.2021e+03, -2.0371e+03],\n",
       "        [ 9.9823e+02, -2.1238e+03, -1.0760e+03],\n",
       "        [-1.2163e+03, -1.0656e+03, -1.3741e+03],\n",
       "        [-2.8422e+02,  1.6528e+03,  1.4428e+03],\n",
       "        [ 1.6597e+02, -1.5936e+02, -8.9115e+02]], device='cuda:0',\n",
       "       grad_fn=<MmBackward>)"
      ]
     },
     "execution_count": 14,
     "metadata": {},
     "output_type": "execute_result"
    }
   ],
   "source": [
    "results['energy_grad'] @ rotate"
   ]
  },
  {
   "cell_type": "code",
   "execution_count": 11,
   "id": "alpha-oregon",
   "metadata": {},
   "outputs": [],
   "source": [
    "new_results = model(data)"
   ]
  },
  {
   "cell_type": "code",
   "execution_count": 13,
   "id": "entire-guatemala",
   "metadata": {},
   "outputs": [
    {
     "data": {
      "text/plain": [
       "tensor([[ 2.4089e+03,  3.0791e+03,  1.4598e+03],\n",
       "        [-2.3518e+03,  2.8206e+02, -4.4779e+03],\n",
       "        [-1.1090e+02, -4.7694e+03,  1.5016e+03],\n",
       "        [ 1.9310e+03,  1.5532e+02, -1.0137e+02],\n",
       "        [-1.8984e+03,  1.6706e+03,  7.3232e+02],\n",
       "        [ 1.4531e+03,  1.1911e+03,  7.2989e+02],\n",
       "        [ 1.5092e+03, -1.2851e+03, -9.3721e+02],\n",
       "        [-2.2094e+03, -6.2140e+02,  1.5650e+03],\n",
       "        [-7.3174e+02,  2.9770e+02, -4.7213e+02],\n",
       "        [-2.0865e+03, -6.4635e+02, -2.4769e+03],\n",
       "        [ 2.9930e+02,  3.2812e+03,  2.7352e+03],\n",
       "        [ 2.3394e+03, -3.1117e+03,  1.7292e+02],\n",
       "        [-1.1095e+03, -1.0708e+03,  1.8805e+03],\n",
       "        [ 9.8922e+02,  1.0066e+03, -9.4703e+02],\n",
       "        [-1.2877e+03, -2.5153e+02, -7.2854e+02],\n",
       "        [ 7.5023e+02, -9.5565e+02,  1.5086e+03],\n",
       "        [ 8.6068e+02,  5.7083e+02, -1.4099e+03],\n",
       "        [-7.5514e+02,  1.1775e+03, -7.3490e+02],\n",
       "        [-2.8446e+03, -5.9175e+01,  2.6899e+02],\n",
       "        [ 2.0062e+03,  2.7296e+03,  1.4062e+03],\n",
       "        [ 1.5942e+03, -1.9817e+03, -9.3823e+02],\n",
       "        [ 1.1334e+03, -2.3170e+02,  1.5673e+03],\n",
       "        [ 6.0078e+02,  8.0743e+02, -1.6506e+03],\n",
       "        [-1.2445e+03, -5.7411e+02, -2.8470e+02],\n",
       "        [-1.3504e+02, -1.3784e+03,  1.1577e+03],\n",
       "        [-4.2738e+02,  2.4223e+02, -2.0218e+03],\n",
       "        [-6.8312e+02,  4.4575e+02,  4.9502e+02],\n",
       "        [ 3.4251e+02, -2.9980e+03,  2.3803e+03],\n",
       "        [-4.0232e+02,  2.7069e+03, -1.2891e+03],\n",
       "        [ 3.0521e+03, -2.0774e+03, -6.7717e+02],\n",
       "        [ 1.4188e+03,  4.1196e+02,  1.6655e+03],\n",
       "        [-4.2683e+03, -5.4253e+02, -5.4391e+02],\n",
       "        [-3.4411e+03,  1.6389e+03, -1.2061e+03],\n",
       "        [ 8.4953e+02, -2.2036e+02,  2.2488e+03],\n",
       "        [ 3.1250e+03,  5.6391e+02, -1.1723e+03],\n",
       "        [-6.7619e+02,  5.1663e+02, -1.4060e+03],\n",
       "        [-2.3802e+01, -3.1395e+03,  2.7626e+02],\n",
       "        [ 1.5550e+03,  2.4432e+03, -1.4327e+03],\n",
       "        [ 3.7717e+02, -7.3000e+01,  1.0816e+03],\n",
       "        [-1.6252e+03,  8.4147e+02,  1.7944e+03],\n",
       "        [ 8.1618e+02, -2.1997e+02, -1.3330e+03],\n",
       "        [ 5.4630e+02, -1.0434e+03, -8.4869e+02],\n",
       "        [-4.7441e+02,  2.4154e+02, -1.3047e+03],\n",
       "        [-1.1667e+03, -2.2528e+02,  2.0225e+03],\n",
       "        [-4.4896e+00,  1.1749e+03, -2.5564e+02],\n",
       "        [-8.1208e+02,  6.8228e+02,  1.4990e+03],\n",
       "        [ 1.2178e+03,  3.3268e+03, -3.1405e+03],\n",
       "        [-1.8250e+02, -3.5827e+03,  7.9501e+02],\n",
       "        [ 2.2208e+03,  6.1973e+01,  2.1802e+03],\n",
       "        [-2.3748e+03,  1.8492e+02, -6.7343e+02],\n",
       "        [-2.0535e+03,  1.2826e+03, -8.7333e+02],\n",
       "        [ 2.4285e+03,  3.5783e+02,  1.4355e+03],\n",
       "        [ 7.1653e+02, -2.7680e+03, -8.8084e+02],\n",
       "        [-1.1608e+03,  4.5427e+02, -3.4165e+02],\n",
       "        [-8.3085e+02, -1.2794e+03, -1.5400e+03],\n",
       "        [-2.1151e+03,  1.5220e+03, -6.2885e+02],\n",
       "        [ 2.4374e+03,  6.5039e+02,  2.1066e+03],\n",
       "        [-4.3236e+02, -2.4706e+03,  1.5512e+03],\n",
       "        [ 2.5595e+03,  3.2218e+02, -1.6711e+03],\n",
       "        [ 1.2526e+03,  3.2042e+03,  1.9429e+03],\n",
       "        [ 9.1491e+02, -5.2040e+02, -2.4396e+03],\n",
       "        [-3.3559e+03, -5.0812e+02, -1.4178e+02],\n",
       "        [-4.3016e+02, -9.2021e+02,  8.2065e+02],\n",
       "        [-6.5600e+02,  6.1075e+02, -1.7618e+03],\n",
       "        [ 2.3065e+03,  1.7512e+03,  2.2883e+03],\n",
       "        [-3.8830e+02, -4.6520e+02,  2.3199e+03],\n",
       "        [-2.0805e+02,  9.4752e+02, -1.1459e+02],\n",
       "        [ 8.2933e+02, -1.1432e+03, -4.3695e+02],\n",
       "        [-4.5518e+02, -3.1685e+03,  3.0252e+02],\n",
       "        [-4.5405e+02,  8.7075e+02, -2.6575e+03],\n",
       "        [-1.5756e+03,  5.5189e+02,  1.9325e+03],\n",
       "        [ 6.0135e+02,  4.4831e+01, -1.8724e+03],\n",
       "        [ 3.6656e+03,  7.6591e+01,  1.4759e+03],\n",
       "        [-3.4387e+03,  4.0625e+02, -2.0442e+03],\n",
       "        [-9.5187e+02, -2.8558e+03, -4.9553e+02],\n",
       "        [ 4.8196e+02,  8.2408e+02, -1.0084e+03],\n",
       "        [-1.2584e+02,  7.0401e+02,  1.6196e+03],\n",
       "        [-1.0683e+03, -2.5925e+02,  1.6109e+03],\n",
       "        [ 7.9988e+02,  1.6055e+03,  1.3821e+03],\n",
       "        [ 6.4163e+02, -1.1255e+03, -2.3039e+03],\n",
       "        [-4.4318e+00,  6.2408e+02, -2.3642e+02],\n",
       "        [-2.0695e+03,  2.5135e+03,  2.6072e+03],\n",
       "        [ 1.3183e+03,  1.4855e+03,  3.6233e+02],\n",
       "        [-2.8354e+02, -2.2668e+03,  7.4332e+01],\n",
       "        [ 1.7349e+03, -1.2383e+03,  8.9176e+02],\n",
       "        [-3.6387e+02,  1.2021e+03, -2.0371e+03],\n",
       "        [ 9.9823e+02, -2.1238e+03, -1.0760e+03],\n",
       "        [-1.2163e+03, -1.0656e+03, -1.3741e+03],\n",
       "        [-2.8422e+02,  1.6528e+03,  1.4428e+03],\n",
       "        [ 1.6597e+02, -1.5936e+02, -8.9115e+02]], device='cuda:0',\n",
       "       grad_fn=<AddBackward0>)"
      ]
     },
     "execution_count": 13,
     "metadata": {},
     "output_type": "execute_result"
    }
   ],
   "source": [
    "new_results['energy_grad']"
   ]
  },
  {
   "cell_type": "code",
   "execution_count": 82,
   "id": "lesser-alexander",
   "metadata": {},
   "outputs": [],
   "source": [
    "from nff.utils.cuda import batch_to, batch_detach\n",
    "data = None\n",
    "for batch in train_loader:\n",
    "    data = batch_to(batch, DEVICE)\n",
    "    break"
   ]
  },
  {
   "cell_type": "code",
   "execution_count": 83,
   "id": "generic-review",
   "metadata": {},
   "outputs": [],
   "source": [
    "xyz, e_rbf, a_sbf, nbr_list, angle_list, num_atoms, z, kj_idx, ji_idx = model.get_prelims(data)\n",
    "\n",
    "\n",
    "EPS = 1e-15\n",
    "\n",
    "\n",
    "def norm(vec):\n",
    "    result = ((vec ** 2 + EPS).sum(-1)) ** 0.5\n",
    "    return result\n",
    "\n",
    "def xyz2adjoint(xyz):\n",
    "    ## angle adjoints\n",
    "    ### identity matrix\n",
    "    eye = torch.eye(3).unsqueeze(0).to(xyz)  # 1*3*3\n",
    "    ### points from j -> i\n",
    "    r_ji = xyz[angle_list[:, 0]] - xyz[angle_list[:, 1]]  # N_e*3\n",
    "    d_ji = norm(r_ji)[:, None, None]  # N_e*1*1\n",
    "    unit_ji = r_ji / d_ji.squeeze(-1)  # N_e*3\n",
    "    ### points from j -> k\n",
    "    r_jk = xyz[angle_list[:, 2]] - xyz[angle_list[:, 1]]  # N_e*3\n",
    "    d_jk = norm(r_jk)[:, None, None]  # N_e*1*1\n",
    "    unit_jk = r_jk / d_jk.squeeze(-1)  # N_e*3\n",
    "    ### adjoint_ji\n",
    "    kronecker_ji = r_ji.unsqueeze(-1) * r_ji.unsqueeze(-2)  # N_e*3*3\n",
    "    angle_adjoint_ji = torch.einsum('ijk,ij->ik', (-eye*d_ji + kronecker_ji/d_ji)/d_ji**2, unit_jk)\n",
    "    # angle_adjoint_ji = -1 / ((1-angle_adjoint_ji**2) + EPS) ** 0.5  #  N_angle*3\n",
    "    ### adjoint_jk\n",
    "    kronecker_jk = r_jk.unsqueeze(-1) * r_jk.unsqueeze(-2)  # N_e*3*3\n",
    "    angle_adjoint_jk = torch.einsum('ijk,ij->ik', (-eye*d_jk + kronecker_jk/d_jk)/d_jk**2, unit_ji)\n",
    "    # angle_adjoint_jk = -1 / ((1-angle_adjoint_jk**2) + EPS) ** 0.5  #  N_angle*3\n",
    "    \n",
    "    return angle_adjoint_ji, angle_adjoint_jk\n",
    "\n",
    "a = xyz2adjoint(xyz)\n",
    "b = xyz2adjoint(xyz@rotate)"
   ]
  },
  {
   "cell_type": "code",
   "execution_count": 84,
   "id": "injured-aruba",
   "metadata": {},
   "outputs": [
    {
     "data": {
      "text/plain": [
       "tensor([[-0.1572,  0.3815, -0.0041],\n",
       "        [ 0.3508, -0.0146,  0.0154],\n",
       "        [-0.1712, -0.2301, -0.0092],\n",
       "        ...,\n",
       "        [-0.2771, -0.0931, -0.1060],\n",
       "        [-0.2363, -0.2324, -0.0254],\n",
       "        [ 0.0182, -0.3153,  0.1435]], device='cuda:0')"
      ]
     },
     "execution_count": 84,
     "metadata": {},
     "output_type": "execute_result"
    }
   ],
   "source": [
    "a[0] @ rotate"
   ]
  },
  {
   "cell_type": "code",
   "execution_count": 85,
   "id": "christian-auditor",
   "metadata": {},
   "outputs": [
    {
     "data": {
      "text/plain": [
       "tensor([[-0.1572,  0.3815, -0.0041],\n",
       "        [ 0.3508, -0.0146,  0.0154],\n",
       "        [-0.1712, -0.2301, -0.0092],\n",
       "        ...,\n",
       "        [-0.2771, -0.0931, -0.1060],\n",
       "        [-0.2363, -0.2324, -0.0254],\n",
       "        [ 0.0182, -0.3153,  0.1435]], device='cuda:0')"
      ]
     },
     "execution_count": 85,
     "metadata": {},
     "output_type": "execute_result"
    }
   ],
   "source": [
    "b[0]"
   ]
  },
  {
   "cell_type": "code",
   "execution_count": null,
   "id": "thick-mechanism",
   "metadata": {},
   "outputs": [],
   "source": []
  }
 ],
 "metadata": {
  "kernelspec": {
   "display_name": "Python [conda env:nff]",
   "language": "python",
   "name": "nff"
  },
  "language_info": {
   "codemirror_mode": {
    "name": "ipython",
    "version": 3
   },
   "file_extension": ".py",
   "mimetype": "text/x-python",
   "name": "python",
   "nbconvert_exporter": "python",
   "pygments_lexer": "ipython3",
   "version": "3.7.10"
  }
 },
 "nbformat": 4,
 "nbformat_minor": 5
}
