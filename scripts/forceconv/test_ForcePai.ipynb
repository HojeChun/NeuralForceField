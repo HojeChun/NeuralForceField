{
 "cells": [
  {
   "cell_type": "code",
   "execution_count": 1,
   "id": "returning-franchise",
   "metadata": {},
   "outputs": [],
   "source": [
    "import sys\n",
    "from pathlib import Path\n",
    "\n",
    "# change to your NFF path\n",
    "sys.path.insert(0, \"..\")\n",
    "sys.path.insert(0, \"../..\")\n",
    "sys.path.insert(0, \"../../../\")\n",
    "\n",
    "import os\n",
    "import shutil\n",
    "import numpy as np\n",
    "import matplotlib.pyplot as plt\n",
    "import copy\n",
    "\n",
    "import torch\n",
    "from torch.optim import Adam\n",
    "from torch.utils.data import DataLoader\n",
    "from torch.utils.data.sampler import RandomSampler\n",
    "\n",
    "from nff.data import Dataset, split_train_validation_test, collate_dicts, to_tensor\n",
    "from nff.train import Trainer, get_trainer, get_model, load_model, loss, hooks, metrics, evaluate\n",
    "\n",
    "import argparse\n",
    "from sigopt import Connection\n",
    "\n",
    "from train import train\n",
    "from forceconv import *\n",
    "\n",
    "from MD17data import *\n",
    "\n",
    "from forcepai import ForcePai\n",
    "# from nff.nn.models import Painn"
   ]
  },
  {
   "cell_type": "code",
   "execution_count": 2,
   "id": "south-military",
   "metadata": {},
   "outputs": [],
   "source": [
    "parser = argparse.ArgumentParser()\n",
    "parser.add_argument(\"-logdir\", type=str, default='./output')\n",
    "parser.add_argument(\"-device\", type=int, default=0)\n",
    "parser.add_argument(\"-data\", type=str, default='ethanol_dft')\n",
    "params = vars(parser.parse_args([]))\n",
    "\n",
    "DEVICE = params['device']\n",
    "OUTDIR = '{}/{}/sandbox'.format(params['logdir'], 'test_ForcePai')\n",
    "\n",
    "BATCH_SIZE = 10\n",
    "lr = 1e-5\n",
    "n_epochs = 100"
   ]
  },
  {
   "cell_type": "code",
   "execution_count": 3,
   "id": "selected-affect",
   "metadata": {},
   "outputs": [],
   "source": [
    "data = get_MD17data(params['data'])\n",
    "dataset = pack_MD17data(data, 10000)"
   ]
  },
  {
   "cell_type": "code",
   "execution_count": 4,
   "id": "incorrect-commodity",
   "metadata": {},
   "outputs": [],
   "source": [
    "train, val, test = split_train_validation_test(dataset, val_size=0.05, test_size=0.85)\n",
    "train_loader = DataLoader(train, batch_size=BATCH_SIZE, collate_fn=collate_dicts)\n",
    "val_loader = DataLoader(val, batch_size=BATCH_SIZE, collate_fn=collate_dicts)\n",
    "test_loader = DataLoader(test, batch_size=BATCH_SIZE, collate_fn=collate_dicts)"
   ]
  },
  {
   "cell_type": "code",
   "execution_count": 5,
   "id": "better-miracle",
   "metadata": {},
   "outputs": [],
   "source": [
    "modelparams = {\"feat_dim\": 128,\n",
    "              \"activation\": \"swish\",\n",
    "              \"n_rbf\": 20,\n",
    "              \"cutoff\": 5.0,\n",
    "              \"num_conv\": 3,\n",
    "              \"output_keys\": [\"energy\"],\n",
    "              \"grad_keys\": [\"energy_grad\"],\n",
    "               # whether to sum outputs from all blocks in the model\n",
    "               # or just the final output block. False in the original\n",
    "               # implementation\n",
    "              \"skip_connection\": False,\n",
    "               # Whether the k parameters in the Bessel basis functions\n",
    "               # are learnable. False originally\n",
    "              \"learnable_k\": False,\n",
    "               # dropout rate in the convolution layers, originally 0\n",
    "               \"conv_dropout\": 0.0,\n",
    "               # dropout rate in the readout layers, originally 0\n",
    "               \"readout_dropout\": 0.0,\n",
    "               # dictionary of means to add to each output key\n",
    "               # (this is optional - if you don't supply it then\n",
    "               # nothing will be added)\n",
    "               # \"means\": {\"energy\": train.props['energy'].mean().item()},\n",
    "               # dictionary of standard devations with which to \n",
    "               # multiply each output key\n",
    "               # (this is optional - if you don't supply it then\n",
    "               # nothing will be multiplied)\n",
    "               # \"stddevs\": {\"energy\": train.props['energy'].std().item()}\n",
    "              }\n",
    "model = ForcePai(modelparams)\n",
    "# model = get_model(modelparams, model_type=\"Painn\")"
   ]
  },
  {
   "cell_type": "code",
   "execution_count": 6,
   "id": "social-invalid",
   "metadata": {},
   "outputs": [],
   "source": [
    "loss_fn = loss.build_mse_loss(loss_coef={'energy_grad': 1})\n",
    "trainable_params = filter(lambda p: p.requires_grad, model.parameters())\n",
    "optimizer = Adam(trainable_params, lr=lr)\n",
    "train_metrics = [\n",
    "        metrics.MeanAbsoluteError('energy_grad')\n",
    "    ]"
   ]
  },
  {
   "cell_type": "code",
   "execution_count": 8,
   "id": "important-summit",
   "metadata": {},
   "outputs": [],
   "source": [
    "train_hooks = [\n",
    "    hooks.MaxEpochHook(n_epochs),\n",
    "    hooks.CSVHook(\n",
    "        OUTDIR,\n",
    "        metrics=train_metrics,\n",
    "    ),\n",
    "    hooks.PrintingHook(\n",
    "        OUTDIR,\n",
    "        metrics=train_metrics,\n",
    "        separator = ' | ',\n",
    "        time_strf='%M:%S'\n",
    "    ),\n",
    "    hooks.ReduceLROnPlateauHook(\n",
    "        optimizer=optimizer,\n",
    "        patience=20,\n",
    "        factor=0.5,\n",
    "        min_lr=1e-7,\n",
    "        window_length=1,\n",
    "        stop_after_min=True\n",
    "    )\n",
    "]\n",
    "\n",
    "T = Trainer(\n",
    "    model_path=OUTDIR,\n",
    "    model=model,\n",
    "    loss_fn=loss_fn,\n",
    "    optimizer=optimizer,\n",
    "    train_loader=train_loader,\n",
    "    validation_loader=val_loader,\n",
    "    checkpoint_interval=1,\n",
    "    hooks=train_hooks,\n",
    "    mini_batches=1\n",
    ")"
   ]
  },
  {
   "cell_type": "code",
   "execution_count": 9,
   "id": "pointed-somalia",
   "metadata": {},
   "outputs": [
    {
     "name": "stdout",
     "output_type": "stream",
     "text": [
      " Time | Epoch | Learning rate | Train loss | Validation loss | MAE_energy_grad | GPU Memory (MB)\n"
     ]
    },
    {
     "name": "stderr",
     "output_type": "stream",
     "text": [
      " 99%|█████████▉| 99/100 [00:04<00:00, 20.23it/s]\n"
     ]
    },
    {
     "name": "stdout",
     "output_type": "stream",
     "text": [
      "12:04 |     1 |     1.000e-05 |   698.3097 |        634.2362 |         18.8060 |              46\n"
     ]
    },
    {
     "name": "stderr",
     "output_type": "stream",
     "text": [
      " 99%|█████████▉| 99/100 [00:04<00:00, 22.43it/s]\n"
     ]
    },
    {
     "name": "stdout",
     "output_type": "stream",
     "text": [
      "12:10 |     2 |     1.000e-05 |   653.9040 |        601.3732 |         18.2236 |              46\n"
     ]
    },
    {
     "name": "stderr",
     "output_type": "stream",
     "text": [
      " 99%|█████████▉| 99/100 [00:04<00:00, 23.98it/s]\n"
     ]
    },
    {
     "name": "stdout",
     "output_type": "stream",
     "text": [
      "12:14 |     3 |     1.000e-05 |   604.8907 |        538.1910 |         16.9291 |              46\n"
     ]
    },
    {
     "name": "stderr",
     "output_type": "stream",
     "text": [
      " 99%|█████████▉| 99/100 [00:04<00:00, 23.30it/s]\n"
     ]
    },
    {
     "name": "stdout",
     "output_type": "stream",
     "text": [
      "12:19 |     4 |     1.000e-05 |   534.6254 |        481.6557 |         15.7908 |              46\n"
     ]
    },
    {
     "name": "stderr",
     "output_type": "stream",
     "text": [
      " 99%|█████████▉| 99/100 [00:04<00:00, 23.88it/s]\n"
     ]
    },
    {
     "name": "stdout",
     "output_type": "stream",
     "text": [
      "12:24 |     5 |     1.000e-05 |   495.2409 |        451.6595 |         15.3353 |              46\n"
     ]
    },
    {
     "name": "stderr",
     "output_type": "stream",
     "text": [
      " 10%|█         | 10/100 [00:00<00:03, 23.54it/s]\n"
     ]
    },
    {
     "ename": "KeyboardInterrupt",
     "evalue": "",
     "output_type": "error",
     "traceback": [
      "\u001b[0;31m---------------------------------------------------------------------------\u001b[0m",
      "\u001b[0;31mKeyboardInterrupt\u001b[0m                         Traceback (most recent call last)",
      "\u001b[0;32m<ipython-input-9-e5df92b0fe85>\u001b[0m in \u001b[0;36m<module>\u001b[0;34m\u001b[0m\n\u001b[0;32m----> 1\u001b[0;31m \u001b[0mT\u001b[0m\u001b[0;34m.\u001b[0m\u001b[0mtrain\u001b[0m\u001b[0;34m(\u001b[0m\u001b[0mdevice\u001b[0m\u001b[0;34m=\u001b[0m\u001b[0mDEVICE\u001b[0m\u001b[0;34m,\u001b[0m \u001b[0mn_epochs\u001b[0m\u001b[0;34m=\u001b[0m\u001b[0;36m1000\u001b[0m\u001b[0;34m)\u001b[0m\u001b[0;34m\u001b[0m\u001b[0;34m\u001b[0m\u001b[0m\n\u001b[0m",
      "\u001b[0;32m~/NeuralForceField/nff/train/trainer.py\u001b[0m in \u001b[0;36mtrain\u001b[0;34m(self, device, n_epochs)\u001b[0m\n\u001b[1;32m    392\u001b[0m \u001b[0;34m\u001b[0m\u001b[0m\n\u001b[1;32m    393\u001b[0m                         self.optim_step(batch_num=eff_batches,\n\u001b[0;32m--> 394\u001b[0;31m                                         device=device)\n\u001b[0m\u001b[1;32m    395\u001b[0m \u001b[0;34m\u001b[0m\u001b[0m\n\u001b[1;32m    396\u001b[0m                         \u001b[0;32mfor\u001b[0m \u001b[0mh\u001b[0m \u001b[0;32min\u001b[0m \u001b[0mself\u001b[0m\u001b[0;34m.\u001b[0m\u001b[0mhooks\u001b[0m\u001b[0;34m:\u001b[0m\u001b[0;34m\u001b[0m\u001b[0;34m\u001b[0m\u001b[0m\n",
      "\u001b[0;32m~/NeuralForceField/nff/train/trainer.py\u001b[0m in \u001b[0;36moptim_step\u001b[0;34m(self, batch_num, device)\u001b[0m\n\u001b[1;32m    329\u001b[0m \u001b[0;34m\u001b[0m\u001b[0m\n\u001b[1;32m    330\u001b[0m         \u001b[0;32mif\u001b[0m \u001b[0;32mnot\u001b[0m \u001b[0mself\u001b[0m\u001b[0;34m.\u001b[0m\u001b[0mgrad_is_nan\u001b[0m\u001b[0;34m(\u001b[0m\u001b[0;34m)\u001b[0m\u001b[0;34m:\u001b[0m\u001b[0;34m\u001b[0m\u001b[0;34m\u001b[0m\u001b[0m\n\u001b[0;32m--> 331\u001b[0;31m             \u001b[0mself\u001b[0m\u001b[0;34m.\u001b[0m\u001b[0moptimizer\u001b[0m\u001b[0;34m.\u001b[0m\u001b[0mstep\u001b[0m\u001b[0;34m(\u001b[0m\u001b[0;34m)\u001b[0m\u001b[0;34m\u001b[0m\u001b[0;34m\u001b[0m\u001b[0m\n\u001b[0m\u001b[1;32m    332\u001b[0m \u001b[0;34m\u001b[0m\u001b[0m\n\u001b[1;32m    333\u001b[0m     \u001b[0;32mdef\u001b[0m \u001b[0mtrain\u001b[0m\u001b[0;34m(\u001b[0m\u001b[0mself\u001b[0m\u001b[0;34m,\u001b[0m \u001b[0mdevice\u001b[0m\u001b[0;34m,\u001b[0m \u001b[0mn_epochs\u001b[0m\u001b[0;34m=\u001b[0m\u001b[0mMAX_EPOCHS\u001b[0m\u001b[0;34m)\u001b[0m\u001b[0;34m:\u001b[0m\u001b[0;34m\u001b[0m\u001b[0;34m\u001b[0m\u001b[0m\n",
      "\u001b[0;32m~/anaconda3/envs/nff/lib/python3.7/site-packages/torch/optim/optimizer.py\u001b[0m in \u001b[0;36mwrapper\u001b[0;34m(*args, **kwargs)\u001b[0m\n\u001b[1;32m     87\u001b[0m                 \u001b[0mprofile_name\u001b[0m \u001b[0;34m=\u001b[0m \u001b[0;34m\"Optimizer.step#{}.step\"\u001b[0m\u001b[0;34m.\u001b[0m\u001b[0mformat\u001b[0m\u001b[0;34m(\u001b[0m\u001b[0mobj\u001b[0m\u001b[0;34m.\u001b[0m\u001b[0m__class__\u001b[0m\u001b[0;34m.\u001b[0m\u001b[0m__name__\u001b[0m\u001b[0;34m)\u001b[0m\u001b[0;34m\u001b[0m\u001b[0;34m\u001b[0m\u001b[0m\n\u001b[1;32m     88\u001b[0m                 \u001b[0;32mwith\u001b[0m \u001b[0mtorch\u001b[0m\u001b[0;34m.\u001b[0m\u001b[0mautograd\u001b[0m\u001b[0;34m.\u001b[0m\u001b[0mprofiler\u001b[0m\u001b[0;34m.\u001b[0m\u001b[0mrecord_function\u001b[0m\u001b[0;34m(\u001b[0m\u001b[0mprofile_name\u001b[0m\u001b[0;34m)\u001b[0m\u001b[0;34m:\u001b[0m\u001b[0;34m\u001b[0m\u001b[0;34m\u001b[0m\u001b[0m\n\u001b[0;32m---> 89\u001b[0;31m                     \u001b[0;32mreturn\u001b[0m \u001b[0mfunc\u001b[0m\u001b[0;34m(\u001b[0m\u001b[0;34m*\u001b[0m\u001b[0margs\u001b[0m\u001b[0;34m,\u001b[0m \u001b[0;34m**\u001b[0m\u001b[0mkwargs\u001b[0m\u001b[0;34m)\u001b[0m\u001b[0;34m\u001b[0m\u001b[0;34m\u001b[0m\u001b[0m\n\u001b[0m\u001b[1;32m     90\u001b[0m             \u001b[0;32mreturn\u001b[0m \u001b[0mwrapper\u001b[0m\u001b[0;34m\u001b[0m\u001b[0;34m\u001b[0m\u001b[0m\n\u001b[1;32m     91\u001b[0m \u001b[0;34m\u001b[0m\u001b[0m\n",
      "\u001b[0;32m~/anaconda3/envs/nff/lib/python3.7/site-packages/torch/autograd/grad_mode.py\u001b[0m in \u001b[0;36mdecorate_context\u001b[0;34m(*args, **kwargs)\u001b[0m\n\u001b[1;32m     25\u001b[0m         \u001b[0;32mdef\u001b[0m \u001b[0mdecorate_context\u001b[0m\u001b[0;34m(\u001b[0m\u001b[0;34m*\u001b[0m\u001b[0margs\u001b[0m\u001b[0;34m,\u001b[0m \u001b[0;34m**\u001b[0m\u001b[0mkwargs\u001b[0m\u001b[0;34m)\u001b[0m\u001b[0;34m:\u001b[0m\u001b[0;34m\u001b[0m\u001b[0;34m\u001b[0m\u001b[0m\n\u001b[1;32m     26\u001b[0m             \u001b[0;32mwith\u001b[0m \u001b[0mself\u001b[0m\u001b[0;34m.\u001b[0m\u001b[0m__class__\u001b[0m\u001b[0;34m(\u001b[0m\u001b[0;34m)\u001b[0m\u001b[0;34m:\u001b[0m\u001b[0;34m\u001b[0m\u001b[0;34m\u001b[0m\u001b[0m\n\u001b[0;32m---> 27\u001b[0;31m                 \u001b[0;32mreturn\u001b[0m \u001b[0mfunc\u001b[0m\u001b[0;34m(\u001b[0m\u001b[0;34m*\u001b[0m\u001b[0margs\u001b[0m\u001b[0;34m,\u001b[0m \u001b[0;34m**\u001b[0m\u001b[0mkwargs\u001b[0m\u001b[0;34m)\u001b[0m\u001b[0;34m\u001b[0m\u001b[0;34m\u001b[0m\u001b[0m\n\u001b[0m\u001b[1;32m     28\u001b[0m         \u001b[0;32mreturn\u001b[0m \u001b[0mcast\u001b[0m\u001b[0;34m(\u001b[0m\u001b[0mF\u001b[0m\u001b[0;34m,\u001b[0m \u001b[0mdecorate_context\u001b[0m\u001b[0;34m)\u001b[0m\u001b[0;34m\u001b[0m\u001b[0;34m\u001b[0m\u001b[0m\n\u001b[1;32m     29\u001b[0m \u001b[0;34m\u001b[0m\u001b[0m\n",
      "\u001b[0;32m~/anaconda3/envs/nff/lib/python3.7/site-packages/torch/optim/adam.py\u001b[0m in \u001b[0;36mstep\u001b[0;34m(self, closure)\u001b[0m\n\u001b[1;32m    117\u001b[0m                    \u001b[0mgroup\u001b[0m\u001b[0;34m[\u001b[0m\u001b[0;34m'lr'\u001b[0m\u001b[0;34m]\u001b[0m\u001b[0;34m,\u001b[0m\u001b[0;34m\u001b[0m\u001b[0;34m\u001b[0m\u001b[0m\n\u001b[1;32m    118\u001b[0m                    \u001b[0mgroup\u001b[0m\u001b[0;34m[\u001b[0m\u001b[0;34m'weight_decay'\u001b[0m\u001b[0;34m]\u001b[0m\u001b[0;34m,\u001b[0m\u001b[0;34m\u001b[0m\u001b[0;34m\u001b[0m\u001b[0m\n\u001b[0;32m--> 119\u001b[0;31m                    group['eps'])\n\u001b[0m\u001b[1;32m    120\u001b[0m         \u001b[0;32mreturn\u001b[0m \u001b[0mloss\u001b[0m\u001b[0;34m\u001b[0m\u001b[0;34m\u001b[0m\u001b[0m\n",
      "\u001b[0;32m~/anaconda3/envs/nff/lib/python3.7/site-packages/torch/optim/_functional.py\u001b[0m in \u001b[0;36madam\u001b[0;34m(params, grads, exp_avgs, exp_avg_sqs, max_exp_avg_sqs, state_steps, amsgrad, beta1, beta2, lr, weight_decay, eps)\u001b[0m\n\u001b[1;32m     94\u001b[0m         \u001b[0mstep_size\u001b[0m \u001b[0;34m=\u001b[0m \u001b[0mlr\u001b[0m \u001b[0;34m/\u001b[0m \u001b[0mbias_correction1\u001b[0m\u001b[0;34m\u001b[0m\u001b[0;34m\u001b[0m\u001b[0m\n\u001b[1;32m     95\u001b[0m \u001b[0;34m\u001b[0m\u001b[0m\n\u001b[0;32m---> 96\u001b[0;31m         \u001b[0mparam\u001b[0m\u001b[0;34m.\u001b[0m\u001b[0maddcdiv_\u001b[0m\u001b[0;34m(\u001b[0m\u001b[0mexp_avg\u001b[0m\u001b[0;34m,\u001b[0m \u001b[0mdenom\u001b[0m\u001b[0;34m,\u001b[0m \u001b[0mvalue\u001b[0m\u001b[0;34m=\u001b[0m\u001b[0;34m-\u001b[0m\u001b[0mstep_size\u001b[0m\u001b[0;34m)\u001b[0m\u001b[0;34m\u001b[0m\u001b[0;34m\u001b[0m\u001b[0m\n\u001b[0m\u001b[1;32m     97\u001b[0m \u001b[0;34m\u001b[0m\u001b[0m\n\u001b[1;32m     98\u001b[0m \u001b[0;34m\u001b[0m\u001b[0m\n",
      "\u001b[0;31mKeyboardInterrupt\u001b[0m: "
     ]
    }
   ],
   "source": [
    "T.train(device=DEVICE, n_epochs=1000)"
   ]
  },
  {
   "cell_type": "code",
   "execution_count": 9,
   "id": "surgical-somerset",
   "metadata": {},
   "outputs": [],
   "source": [
    "from nff.utils.cuda import batch_to, batch_detach\n",
    "data = None\n",
    "for batch in train_loader:\n",
    "    data = batch_to(batch, DEVICE)\n",
    "    break"
   ]
  },
  {
   "cell_type": "code",
   "execution_count": 10,
   "id": "incomplete-discretion",
   "metadata": {},
   "outputs": [
    {
     "data": {
      "text/plain": [
       "tensor([[ 0.7071, -0.7071,  0.0000],\n",
       "        [ 0.7071,  0.7071,  0.0000],\n",
       "        [ 0.0000,  0.0000,  1.0000]], device='cuda:0')"
      ]
     },
     "execution_count": 10,
     "metadata": {},
     "output_type": "execute_result"
    }
   ],
   "source": [
    "rotate = torch.Tensor([[2**.5/2, -2**.5/2, 0],\n",
    "                       [2**.5/2, 2**.5/2, 0],\n",
    "                       [0, 0, 1]]).to(DEVICE)\n",
    "rotate"
   ]
  },
  {
   "cell_type": "code",
   "execution_count": 12,
   "id": "distributed-labor",
   "metadata": {},
   "outputs": [],
   "source": [
    "data['nxyz'][:, 1:4] @= rotate"
   ]
  },
  {
   "cell_type": "code",
   "execution_count": 11,
   "id": "associate-interim",
   "metadata": {},
   "outputs": [],
   "source": [
    "results = batch_to(batch_detach(model(data)), DEVICE)"
   ]
  },
  {
   "cell_type": "code",
   "execution_count": 13,
   "id": "alpha-oregon",
   "metadata": {},
   "outputs": [],
   "source": [
    "new_results = batch_to(batch_detach(model(data)), DEVICE)"
   ]
  },
  {
   "cell_type": "code",
   "execution_count": 14,
   "id": "automated-yacht",
   "metadata": {},
   "outputs": [
    {
     "data": {
      "text/plain": [
       "tensor(-7.7486e-08, device='cuda:0')"
      ]
     },
     "execution_count": 14,
     "metadata": {},
     "output_type": "execute_result"
    }
   ],
   "source": [
    "(new_results['energy_grad'] - (results['energy_grad'] @ rotate)).mean()"
   ]
  },
  {
   "cell_type": "code",
   "execution_count": 16,
   "id": "entire-guatemala",
   "metadata": {},
   "outputs": [
    {
     "data": {
      "text/plain": [
       "tensor([[-3.0743e+00, -2.5356e+00,  6.8605e-01],\n",
       "        [-3.7862e+00, -8.1742e+00, -7.3772e-01],\n",
       "        [-9.2791e+00,  1.3064e+00,  9.5019e-01],\n",
       "        [ 6.2518e+00,  1.5848e+01, -3.9878e+01],\n",
       "        [ 7.4646e+00,  2.4472e+01,  8.0067e+00],\n",
       "        [-7.5967e-01,  3.2987e+00,  2.2214e+00],\n",
       "        [-2.7196e+00, -1.5982e+01,  2.6133e+01],\n",
       "        [ 1.9472e+01, -1.5775e+01,  2.8369e+00],\n",
       "        [-1.3569e+01, -2.4580e+00, -2.1894e-01],\n",
       "        [-3.9159e+00, -8.4086e+00, -1.5095e+00],\n",
       "        [-7.2181e+00,  2.1647e+00, -6.4895e+00],\n",
       "        [ 2.4396e+00,  1.5267e+00, -2.2225e+00],\n",
       "        [-2.4761e+00, -1.5227e+00,  2.0883e+00],\n",
       "        [-8.3257e+00, -1.8099e+00,  6.4227e-01],\n",
       "        [ 1.3366e+01,  1.9605e+01, -8.2195e+00],\n",
       "        [ 1.6819e+01, -2.5273e+01,  1.3427e+01],\n",
       "        [-9.3391e+00,  8.5677e+00,  1.2269e+01],\n",
       "        [-1.3495e+00,  5.1496e+00, -9.9857e+00],\n",
       "        [ 1.2127e+01,  1.2243e+01, -1.4270e+00],\n",
       "        [ 8.6222e+00,  2.5295e+01, -1.7501e+00],\n",
       "        [ 8.1527e+00,  7.5666e-01, -2.5641e+00],\n",
       "        [-1.4198e+01, -8.7778e+00,  2.5062e+01],\n",
       "        [-2.5118e+01, -4.0119e+00, -2.4812e+01],\n",
       "        [ 1.1572e+01, -1.3831e+01, -1.7449e+01],\n",
       "        [-6.7777e-01,  8.3646e+00, -3.8876e+00],\n",
       "        [-5.4449e+00, -2.9473e+01,  2.5836e+01],\n",
       "        [ 4.9651e+00,  9.4344e+00,  9.9101e-01],\n",
       "        [ 4.1518e+00,  4.8617e+00,  5.1401e+00],\n",
       "        [ 6.0109e+00,  1.1652e+01,  4.2010e+00],\n",
       "        [ 4.0200e+00,  6.5430e+00, -1.0472e+00],\n",
       "        [-3.3228e+00,  8.4904e+00, -1.0795e+00],\n",
       "        [ 2.8526e+00,  3.0809e+00, -2.8451e+00],\n",
       "        [-1.4850e+00, -2.2194e+01, -2.3918e+01],\n",
       "        [-4.8985e+00,  5.6954e+00, -7.7549e-01],\n",
       "        [-9.4003e+00, -1.9733e+01,  1.8327e+01],\n",
       "        [ 2.0714e+00,  1.6037e+00,  1.9972e+00],\n",
       "        [ 6.6401e-01, -1.3898e+00,  6.4598e+00],\n",
       "        [-1.6799e+00,  2.5327e+00, -1.0941e-01],\n",
       "        [-1.1617e+00, -1.2867e+00,  3.0739e+00],\n",
       "        [-2.3660e+00, -6.7595e+00,  4.2872e+00],\n",
       "        [ 2.3745e+01, -1.0043e+01, -1.0265e+01],\n",
       "        [-6.0134e-01,  1.7945e+01, -6.0498e+00],\n",
       "        [-6.8651e+00, -2.9949e+00, -1.0434e+00],\n",
       "        [-9.5879e+00,  1.7477e+00,  1.2151e+01],\n",
       "        [-2.1472e+00,  2.4854e-01, -8.5049e+00],\n",
       "        [ 5.6535e+00,  2.6435e+00,  5.7117e+00],\n",
       "        [ 1.0242e+01,  7.0737e+00,  2.8764e+00],\n",
       "        [ 6.7941e+00,  1.0038e+01, -6.5935e-01],\n",
       "        [ 8.7809e+00, -4.4320e+00, -3.9971e+01],\n",
       "        [ 1.2692e+01, -2.9128e-01,  7.8051e-01],\n",
       "        [-3.7459e+01,  9.4406e+00, -3.0706e-02],\n",
       "        [ 6.8725e-01,  5.3667e+00,  1.2269e+01],\n",
       "        [-1.4520e+01, -3.9187e+01,  1.6913e+01],\n",
       "        [ 7.1291e+00,  9.3471e+00,  2.1107e+00],\n",
       "        [-5.0800e+00, -5.3533e+00, -3.2629e-02],\n",
       "        [-7.9706e+00,  2.7263e+01,  2.5977e+00],\n",
       "        [ 7.2671e+00, -5.3523e+00, -8.1511e+00],\n",
       "        [ 1.0993e+00, -2.3746e+01,  3.1078e+01],\n",
       "        [-2.8627e+01, -1.1695e+01, -1.0270e+01],\n",
       "        [-2.4419e+00, -4.5432e+00, -1.1666e+01],\n",
       "        [ 2.8619e+01,  3.6599e+01, -3.5464e+00],\n",
       "        [ 5.6549e+00, -1.0484e+01,  7.2386e+00],\n",
       "        [ 1.4792e+00, -2.6882e+00, -7.2475e+00],\n",
       "        [ 5.2847e+00, -5.2817e+00, -2.6653e+00],\n",
       "        [-5.4542e+00,  2.1941e+00, -1.0052e+01],\n",
       "        [ 2.4872e+00, -6.5071e+00,  7.0784e-01],\n",
       "        [ 6.7879e+00, -2.0413e+00, -1.1623e+01],\n",
       "        [ 1.6852e+01,  1.0803e+01,  2.9104e+00],\n",
       "        [-2.1641e+01, -8.9093e+00, -6.8376e+00],\n",
       "        [-2.0989e+01,  2.9624e+01,  1.8137e+01],\n",
       "        [ 1.5245e+01, -1.8316e+01,  1.3033e+01],\n",
       "        [ 1.4267e+00, -1.5650e+00, -3.6099e+00],\n",
       "        [ 2.7087e+00, -3.6148e+00, -8.3196e+00],\n",
       "        [ 8.6382e+00,  4.3993e+00, -2.1062e+00],\n",
       "        [ 3.2970e-01,  7.1148e-01, -2.1091e+00],\n",
       "        [-4.8383e-01, -2.1673e+00, -6.3845e+00],\n",
       "        [ 5.5296e+00, -2.5412e+00,  2.1120e+00],\n",
       "        [-1.2470e+01, -1.9548e+01, -1.1654e+01],\n",
       "        [-2.0270e+01,  3.0975e+01,  1.2585e+01],\n",
       "        [ 9.4760e+00, -4.5208e+00,  2.4822e+01],\n",
       "        [ 6.5421e+00, -3.6935e+00, -8.9455e+00],\n",
       "        [ 2.9600e+00, -2.0764e+00, -9.2438e+00],\n",
       "        [-1.2813e+01,  1.3637e+01, -9.3459e+00],\n",
       "        [ 2.2276e-01, -2.5396e+00, -6.8397e+00],\n",
       "        [ 2.7360e+01,  1.2706e+01, -3.6093e+00],\n",
       "        [ 1.1861e+01, -2.3074e+01,  3.0868e+01],\n",
       "        [-1.2807e+01,  1.8690e+01,  1.2913e+01],\n",
       "        [ 8.9853e+00, -1.7540e+01,  4.6807e+00],\n",
       "        [-2.8519e+01,  1.1352e+00, -5.0288e+00],\n",
       "        [ 2.7494e+00, -9.3752e-01, -1.4395e+01]], device='cuda:0')"
      ]
     },
     "execution_count": 16,
     "metadata": {},
     "output_type": "execute_result"
    }
   ],
   "source": [
    "new_results['energy_grad']"
   ]
  },
  {
   "cell_type": "code",
   "execution_count": 15,
   "id": "tutorial-assumption",
   "metadata": {},
   "outputs": [
    {
     "data": {
      "text/plain": [
       "tensor([[-3.0743e+00, -2.5356e+00,  6.8606e-01],\n",
       "        [-3.7861e+00, -8.1742e+00, -7.3772e-01],\n",
       "        [-9.2791e+00,  1.3064e+00,  9.5019e-01],\n",
       "        [ 6.2518e+00,  1.5848e+01, -3.9878e+01],\n",
       "        [ 7.4646e+00,  2.4472e+01,  8.0067e+00],\n",
       "        [-7.5966e-01,  3.2987e+00,  2.2214e+00],\n",
       "        [-2.7196e+00, -1.5982e+01,  2.6133e+01],\n",
       "        [ 1.9472e+01, -1.5775e+01,  2.8369e+00],\n",
       "        [-1.3569e+01, -2.4580e+00, -2.1894e-01],\n",
       "        [-3.9159e+00, -8.4086e+00, -1.5095e+00],\n",
       "        [-7.2181e+00,  2.1647e+00, -6.4895e+00],\n",
       "        [ 2.4396e+00,  1.5267e+00, -2.2225e+00],\n",
       "        [-2.4761e+00, -1.5227e+00,  2.0883e+00],\n",
       "        [-8.3257e+00, -1.8100e+00,  6.4228e-01],\n",
       "        [ 1.3366e+01,  1.9605e+01, -8.2195e+00],\n",
       "        [ 1.6819e+01, -2.5273e+01,  1.3427e+01],\n",
       "        [-9.3391e+00,  8.5678e+00,  1.2269e+01],\n",
       "        [-1.3495e+00,  5.1496e+00, -9.9857e+00],\n",
       "        [ 1.2127e+01,  1.2243e+01, -1.4270e+00],\n",
       "        [ 8.6222e+00,  2.5295e+01, -1.7501e+00],\n",
       "        [ 8.1527e+00,  7.5666e-01, -2.5641e+00],\n",
       "        [-1.4198e+01, -8.7777e+00,  2.5062e+01],\n",
       "        [-2.5118e+01, -4.0119e+00, -2.4812e+01],\n",
       "        [ 1.1572e+01, -1.3831e+01, -1.7449e+01],\n",
       "        [-6.7777e-01,  8.3646e+00, -3.8876e+00],\n",
       "        [-5.4449e+00, -2.9473e+01,  2.5836e+01],\n",
       "        [ 4.9651e+00,  9.4344e+00,  9.9101e-01],\n",
       "        [ 4.1518e+00,  4.8617e+00,  5.1402e+00],\n",
       "        [ 6.0109e+00,  1.1652e+01,  4.2010e+00],\n",
       "        [ 4.0200e+00,  6.5430e+00, -1.0471e+00],\n",
       "        [-3.3229e+00,  8.4904e+00, -1.0795e+00],\n",
       "        [ 2.8526e+00,  3.0809e+00, -2.8452e+00],\n",
       "        [-1.4850e+00, -2.2194e+01, -2.3918e+01],\n",
       "        [-4.8984e+00,  5.6954e+00, -7.7545e-01],\n",
       "        [-9.4003e+00, -1.9733e+01,  1.8327e+01],\n",
       "        [ 2.0714e+00,  1.6037e+00,  1.9972e+00],\n",
       "        [ 6.6401e-01, -1.3898e+00,  6.4598e+00],\n",
       "        [-1.6798e+00,  2.5327e+00, -1.0940e-01],\n",
       "        [-1.1617e+00, -1.2867e+00,  3.0739e+00],\n",
       "        [-2.3660e+00, -6.7595e+00,  4.2872e+00],\n",
       "        [ 2.3745e+01, -1.0043e+01, -1.0265e+01],\n",
       "        [-6.0134e-01,  1.7945e+01, -6.0498e+00],\n",
       "        [-6.8651e+00, -2.9949e+00, -1.0434e+00],\n",
       "        [-9.5879e+00,  1.7477e+00,  1.2151e+01],\n",
       "        [-2.1472e+00,  2.4854e-01, -8.5049e+00],\n",
       "        [ 5.6535e+00,  2.6435e+00,  5.7117e+00],\n",
       "        [ 1.0242e+01,  7.0736e+00,  2.8764e+00],\n",
       "        [ 6.7941e+00,  1.0038e+01, -6.5935e-01],\n",
       "        [ 8.7808e+00, -4.4320e+00, -3.9971e+01],\n",
       "        [ 1.2692e+01, -2.9128e-01,  7.8051e-01],\n",
       "        [-3.7459e+01,  9.4406e+00, -3.0705e-02],\n",
       "        [ 6.8725e-01,  5.3666e+00,  1.2269e+01],\n",
       "        [-1.4520e+01, -3.9186e+01,  1.6913e+01],\n",
       "        [ 7.1291e+00,  9.3471e+00,  2.1107e+00],\n",
       "        [-5.0800e+00, -5.3533e+00, -3.2624e-02],\n",
       "        [-7.9706e+00,  2.7263e+01,  2.5977e+00],\n",
       "        [ 7.2671e+00, -5.3523e+00, -8.1511e+00],\n",
       "        [ 1.0993e+00, -2.3746e+01,  3.1078e+01],\n",
       "        [-2.8627e+01, -1.1695e+01, -1.0270e+01],\n",
       "        [-2.4419e+00, -4.5432e+00, -1.1666e+01],\n",
       "        [ 2.8619e+01,  3.6599e+01, -3.5464e+00],\n",
       "        [ 5.6549e+00, -1.0484e+01,  7.2386e+00],\n",
       "        [ 1.4793e+00, -2.6882e+00, -7.2475e+00],\n",
       "        [ 5.2847e+00, -5.2817e+00, -2.6653e+00],\n",
       "        [-5.4542e+00,  2.1941e+00, -1.0052e+01],\n",
       "        [ 2.4872e+00, -6.5071e+00,  7.0784e-01],\n",
       "        [ 6.7879e+00, -2.0413e+00, -1.1623e+01],\n",
       "        [ 1.6852e+01,  1.0803e+01,  2.9104e+00],\n",
       "        [-2.1641e+01, -8.9093e+00, -6.8376e+00],\n",
       "        [-2.0989e+01,  2.9624e+01,  1.8137e+01],\n",
       "        [ 1.5245e+01, -1.8316e+01,  1.3033e+01],\n",
       "        [ 1.4267e+00, -1.5650e+00, -3.6099e+00],\n",
       "        [ 2.7087e+00, -3.6148e+00, -8.3196e+00],\n",
       "        [ 8.6382e+00,  4.3993e+00, -2.1062e+00],\n",
       "        [ 3.2970e-01,  7.1148e-01, -2.1091e+00],\n",
       "        [-4.8378e-01, -2.1673e+00, -6.3845e+00],\n",
       "        [ 5.5296e+00, -2.5412e+00,  2.1120e+00],\n",
       "        [-1.2470e+01, -1.9548e+01, -1.1654e+01],\n",
       "        [-2.0270e+01,  3.0975e+01,  1.2585e+01],\n",
       "        [ 9.4760e+00, -4.5208e+00,  2.4822e+01],\n",
       "        [ 6.5421e+00, -3.6935e+00, -8.9455e+00],\n",
       "        [ 2.9600e+00, -2.0764e+00, -9.2438e+00],\n",
       "        [-1.2813e+01,  1.3637e+01, -9.3459e+00],\n",
       "        [ 2.2277e-01, -2.5396e+00, -6.8397e+00],\n",
       "        [ 2.7360e+01,  1.2706e+01, -3.6093e+00],\n",
       "        [ 1.1861e+01, -2.3074e+01,  3.0868e+01],\n",
       "        [-1.2807e+01,  1.8690e+01,  1.2913e+01],\n",
       "        [ 8.9853e+00, -1.7540e+01,  4.6807e+00],\n",
       "        [-2.8519e+01,  1.1352e+00, -5.0288e+00],\n",
       "        [ 2.7494e+00, -9.3752e-01, -1.4395e+01]], device='cuda:0')"
      ]
     },
     "execution_count": 15,
     "metadata": {},
     "output_type": "execute_result"
    }
   ],
   "source": [
    "results['energy_grad'] @ rotate"
   ]
  },
  {
   "cell_type": "code",
   "execution_count": 19,
   "id": "weekly-validation",
   "metadata": {},
   "outputs": [
    {
     "data": {
      "text/plain": [
       "['energy']"
      ]
     },
     "execution_count": 19,
     "metadata": {},
     "output_type": "execute_result"
    }
   ],
   "source": [
    "model.output_keys"
   ]
  },
  {
   "cell_type": "code",
   "execution_count": null,
   "id": "applied-logging",
   "metadata": {},
   "outputs": [],
   "source": []
  }
 ],
 "metadata": {
  "kernelspec": {
   "display_name": "Python [conda env:nff]",
   "language": "python",
   "name": "nff"
  },
  "language_info": {
   "codemirror_mode": {
    "name": "ipython",
    "version": 3
   },
   "file_extension": ".py",
   "mimetype": "text/x-python",
   "name": "python",
   "nbconvert_exporter": "python",
   "pygments_lexer": "ipython3",
   "version": "3.7.10"
  }
 },
 "nbformat": 4,
 "nbformat_minor": 5
}
